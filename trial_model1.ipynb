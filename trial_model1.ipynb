{
 "cells": [
  {
   "cell_type": "code",
   "execution_count": 1,
   "id": "6d4855b7",
   "metadata": {},
   "outputs": [],
   "source": [
    "import pandas as pd\n",
    "import tensorflow as tf\n",
    "from keras.models import Sequential\n",
    "from keras.layers import Dense, Activation, Flatten\n",
    "import numpy as np\n",
    "from sklearn.model_selection import train_test_split\n",
    "from sklearn.utils import shuffle\n",
    "from keras import regularizers\n",
    "from keras.layers.core import Dropout"
   ]
  },
  {
   "cell_type": "code",
   "execution_count": 2,
   "id": "4bf75272",
   "metadata": {},
   "outputs": [
    {
     "data": {
      "text/html": [
       "<div>\n",
       "<style scoped>\n",
       "    .dataframe tbody tr th:only-of-type {\n",
       "        vertical-align: middle;\n",
       "    }\n",
       "\n",
       "    .dataframe tbody tr th {\n",
       "        vertical-align: top;\n",
       "    }\n",
       "\n",
       "    .dataframe thead th {\n",
       "        text-align: right;\n",
       "    }\n",
       "</style>\n",
       "<table border=\"1\" class=\"dataframe\">\n",
       "  <thead>\n",
       "    <tr style=\"text-align: right;\">\n",
       "      <th></th>\n",
       "      <th>(0, 0)</th>\n",
       "      <th>(0, 1)</th>\n",
       "      <th>(0, 2)</th>\n",
       "      <th>(0, 3)</th>\n",
       "      <th>(0, 4)</th>\n",
       "      <th>(0, 5)</th>\n",
       "      <th>(0, 6)</th>\n",
       "      <th>(0, 7)</th>\n",
       "      <th>(0, 8)</th>\n",
       "      <th>(0, 9)</th>\n",
       "      <th>...</th>\n",
       "      <th>(47, 39)</th>\n",
       "      <th>(47, 40)</th>\n",
       "      <th>(47, 41)</th>\n",
       "      <th>(47, 42)</th>\n",
       "      <th>(47, 43)</th>\n",
       "      <th>(47, 44)</th>\n",
       "      <th>(47, 45)</th>\n",
       "      <th>(47, 46)</th>\n",
       "      <th>(47, 47)</th>\n",
       "      <th>emotion</th>\n",
       "    </tr>\n",
       "  </thead>\n",
       "  <tbody>\n",
       "    <tr>\n",
       "      <th>0</th>\n",
       "      <td>24</td>\n",
       "      <td>10</td>\n",
       "      <td>13</td>\n",
       "      <td>16</td>\n",
       "      <td>8</td>\n",
       "      <td>12</td>\n",
       "      <td>17</td>\n",
       "      <td>22</td>\n",
       "      <td>29</td>\n",
       "      <td>24</td>\n",
       "      <td>...</td>\n",
       "      <td>89</td>\n",
       "      <td>137</td>\n",
       "      <td>145</td>\n",
       "      <td>142</td>\n",
       "      <td>144</td>\n",
       "      <td>149</td>\n",
       "      <td>150</td>\n",
       "      <td>153</td>\n",
       "      <td>156</td>\n",
       "      <td>anger</td>\n",
       "    </tr>\n",
       "    <tr>\n",
       "      <th>1</th>\n",
       "      <td>17</td>\n",
       "      <td>10</td>\n",
       "      <td>16</td>\n",
       "      <td>15</td>\n",
       "      <td>7</td>\n",
       "      <td>11</td>\n",
       "      <td>15</td>\n",
       "      <td>22</td>\n",
       "      <td>28</td>\n",
       "      <td>19</td>\n",
       "      <td>...</td>\n",
       "      <td>90</td>\n",
       "      <td>136</td>\n",
       "      <td>145</td>\n",
       "      <td>145</td>\n",
       "      <td>147</td>\n",
       "      <td>149</td>\n",
       "      <td>151</td>\n",
       "      <td>153</td>\n",
       "      <td>156</td>\n",
       "      <td>anger</td>\n",
       "    </tr>\n",
       "    <tr>\n",
       "      <th>2</th>\n",
       "      <td>27</td>\n",
       "      <td>13</td>\n",
       "      <td>10</td>\n",
       "      <td>15</td>\n",
       "      <td>11</td>\n",
       "      <td>8</td>\n",
       "      <td>14</td>\n",
       "      <td>17</td>\n",
       "      <td>29</td>\n",
       "      <td>24</td>\n",
       "      <td>...</td>\n",
       "      <td>83</td>\n",
       "      <td>128</td>\n",
       "      <td>144</td>\n",
       "      <td>142</td>\n",
       "      <td>144</td>\n",
       "      <td>145</td>\n",
       "      <td>148</td>\n",
       "      <td>152</td>\n",
       "      <td>156</td>\n",
       "      <td>anger</td>\n",
       "    </tr>\n",
       "    <tr>\n",
       "      <th>3</th>\n",
       "      <td>36</td>\n",
       "      <td>32</td>\n",
       "      <td>17</td>\n",
       "      <td>15</td>\n",
       "      <td>17</td>\n",
       "      <td>20</td>\n",
       "      <td>29</td>\n",
       "      <td>45</td>\n",
       "      <td>58</td>\n",
       "      <td>70</td>\n",
       "      <td>...</td>\n",
       "      <td>15</td>\n",
       "      <td>0</td>\n",
       "      <td>0</td>\n",
       "      <td>0</td>\n",
       "      <td>9</td>\n",
       "      <td>61</td>\n",
       "      <td>129</td>\n",
       "      <td>140</td>\n",
       "      <td>142</td>\n",
       "      <td>anger</td>\n",
       "    </tr>\n",
       "    <tr>\n",
       "      <th>4</th>\n",
       "      <td>31</td>\n",
       "      <td>39</td>\n",
       "      <td>19</td>\n",
       "      <td>16</td>\n",
       "      <td>19</td>\n",
       "      <td>22</td>\n",
       "      <td>27</td>\n",
       "      <td>35</td>\n",
       "      <td>48</td>\n",
       "      <td>66</td>\n",
       "      <td>...</td>\n",
       "      <td>9</td>\n",
       "      <td>0</td>\n",
       "      <td>0</td>\n",
       "      <td>1</td>\n",
       "      <td>13</td>\n",
       "      <td>64</td>\n",
       "      <td>131</td>\n",
       "      <td>140</td>\n",
       "      <td>143</td>\n",
       "      <td>anger</td>\n",
       "    </tr>\n",
       "  </tbody>\n",
       "</table>\n",
       "<p>5 rows × 2305 columns</p>\n",
       "</div>"
      ],
      "text/plain": [
       "   (0, 0)  (0, 1)  (0, 2)  (0, 3)  (0, 4)  (0, 5)  (0, 6)  (0, 7)  (0, 8)  \\\n",
       "0      24      10      13      16       8      12      17      22      29   \n",
       "1      17      10      16      15       7      11      15      22      28   \n",
       "2      27      13      10      15      11       8      14      17      29   \n",
       "3      36      32      17      15      17      20      29      45      58   \n",
       "4      31      39      19      16      19      22      27      35      48   \n",
       "\n",
       "   (0, 9)  ...  (47, 39)  (47, 40)  (47, 41)  (47, 42)  (47, 43)  (47, 44)  \\\n",
       "0      24  ...        89       137       145       142       144       149   \n",
       "1      19  ...        90       136       145       145       147       149   \n",
       "2      24  ...        83       128       144       142       144       145   \n",
       "3      70  ...        15         0         0         0         9        61   \n",
       "4      66  ...         9         0         0         1        13        64   \n",
       "\n",
       "   (47, 45)  (47, 46)  (47, 47)  emotion  \n",
       "0       150       153       156    anger  \n",
       "1       151       153       156    anger  \n",
       "2       148       152       156    anger  \n",
       "3       129       140       142    anger  \n",
       "4       131       140       143    anger  \n",
       "\n",
       "[5 rows x 2305 columns]"
      ]
     },
     "execution_count": 2,
     "metadata": {},
     "output_type": "execute_result"
    }
   ],
   "source": [
    "df = pd.read_csv('C:/Emojent/Tutorials/Deep Learning/data.csv')\n",
    "df.head()"
   ]
  },
  {
   "cell_type": "code",
   "execution_count": 3,
   "id": "304d56b5",
   "metadata": {},
   "outputs": [
    {
     "data": {
      "text/plain": [
       "(981, 2305)"
      ]
     },
     "execution_count": 3,
     "metadata": {},
     "output_type": "execute_result"
    }
   ],
   "source": [
    "df.shape"
   ]
  },
  {
   "cell_type": "code",
   "execution_count": 5,
   "id": "1a4568b7",
   "metadata": {
    "scrolled": true
   },
   "outputs": [
    {
     "name": "stdout",
     "output_type": "stream",
     "text": [
      "[[ 24  10  13 ... 150 153 156]\n",
      " [ 17  10  16 ... 151 153 156]\n",
      " [ 27  13  10 ... 148 152 156]\n",
      " ...\n",
      " [ 52  33   6 ...  76  77  76]\n",
      " [ 32   8   4 ...  77  76  76]\n",
      " [ 45  20   4 ...  76  75  75]]\n"
     ]
    }
   ],
   "source": [
    "x = df.drop(['emotion'], axis=1)\n",
    "x = np.array(x)\n",
    "print(x)"
   ]
  },
  {
   "cell_type": "code",
   "execution_count": 6,
   "id": "91756308",
   "metadata": {},
   "outputs": [
    {
     "name": "stdout",
     "output_type": "stream",
     "text": [
      "[0 0 0 0 0 0 0 0 0 0 0 0 0 0 0 0 0 0 0 0 0 0 0 0 0 0 0 0 0 0 0 0 0 0 0 0 0\n",
      " 0 0 0 0 0 0 0 0 0 0 0 0 0 0 0 0 0 0 0 0 0 0 0 0 0 0 0 0 0 0 0 0 0 0 0 0 0\n",
      " 0 0 0 0 0 0 0 0 0 0 0 0 0 0 0 0 0 0 0 0 0 0 0 0 0 0 0 0 0 0 0 0 0 0 0 0 0\n",
      " 0 0 0 0 0 0 0 0 0 0 0 0 0 0 0 0 0 0 0 0 0 0 0 0 1 1 1 1 1 1 1 1 1 1 1 1 1\n",
      " 1 1 1 1 1 1 1 1 1 1 1 1 1 1 1 1 1 1 1 1 1 1 1 1 1 1 1 1 1 1 1 1 1 1 1 1 1\n",
      " 1 1 1 1 2 2 2 2 2 2 2 2 2 2 2 2 2 2 2 2 2 2 2 2 2 2 2 2 2 2 2 2 2 2 2 2 2\n",
      " 2 2 2 2 2 2 2 2 2 2 2 2 2 2 2 2 2 2 2 2 2 2 2 2 2 2 2 2 2 2 2 2 2 2 2 2 2\n",
      " 2 2 2 2 2 2 2 2 2 2 2 2 2 2 2 2 2 2 2 2 2 2 2 2 2 2 2 2 2 2 2 2 2 2 2 2 2\n",
      " 2 2 2 2 2 2 2 2 2 2 2 2 2 2 2 2 2 2 2 2 2 2 2 2 2 2 2 2 2 2 2 2 2 2 2 2 2\n",
      " 2 2 2 2 2 2 2 2 2 2 2 2 2 2 2 2 2 2 2 2 2 2 2 2 2 2 2 2 2 2 2 2 2 3 3 3 3\n",
      " 3 3 3 3 3 3 3 3 3 3 3 3 3 3 3 3 3 3 3 3 3 3 3 3 3 3 3 3 3 3 3 3 3 3 3 3 3\n",
      " 3 3 3 3 3 3 3 3 3 3 3 3 3 3 3 3 3 3 3 3 3 3 3 3 3 3 3 3 3 3 3 3 3 3 4 4 4\n",
      " 4 4 4 4 4 4 4 4 4 4 4 4 4 4 4 4 4 4 4 4 4 4 4 4 4 4 4 4 4 4 4 4 4 4 4 4 4\n",
      " 4 4 4 4 4 4 4 4 4 4 4 4 4 4 4 4 4 4 4 4 4 4 4 4 4 4 4 4 4 4 4 4 4 4 4 4 4\n",
      " 4 4 4 4 4 4 4 4 4 4 4 4 4 4 4 4 4 4 4 4 4 4 4 4 4 4 4 4 4 4 4 4 4 4 4 4 4\n",
      " 4 4 4 4 4 4 4 4 4 4 4 4 4 4 4 4 4 4 4 4 4 4 4 4 4 4 4 4 4 4 4 4 4 4 4 4 4\n",
      " 4 4 4 4 4 4 4 4 4 4 4 4 4 4 4 4 4 4 4 4 4 4 4 4 4 4 4 4 4 4 4 4 4 4 4 4 4\n",
      " 4 4 4 4 4 4 4 4 4 4 4 4 4 4 4 4 4 4 4 5 5 5 5 5 5 5 5 5 5 5 5 5 5 5 5 5 5\n",
      " 5 5 5 5 5 5 5 5 5 5 5 5 5 5 5 5 5 5 5 5 5 5 5 5 5 5 5 5 5 5 5 5 5 5 5 5 5\n",
      " 5 5 5 5 5 5 5 5 5 5 5 5 5 5 5 5 5 5 5 5 5 5 5 5 5 5 5 5 5 6 6 6 6 6 6 6 6\n",
      " 6 6 6 6 6 6 6 6 6 6 6 6 6 6 6 6 6 6 6 6 6 6 6 6 6 6 6 6 6 6 6 6 6 6 6 6 6\n",
      " 6 6 6 6 6 6 6 6 6 6 6 6 6 6 6 6 6 6 6 6 6 6 6 6 6 6 6 6 6 6 6 6 6 6 6 6 6\n",
      " 6 6 6 6 6 6 6 6 6 6 6 6 6 6 6 6 6 6 6 6 6 6 6 6 6 6 6 6 6 6 6 6 6 6 6 6 6\n",
      " 6 6 6 6 6 6 6 6 6 6 6 6 6 6 6 6 6 6 6 6 6 6 6 6 6 6 6 6 6 6 6 6 6 6 6 6 6\n",
      " 6 6 6 6 6 6 6 6 6 6 6 6 6 6 6 6 6 6 6 6 6 6 6 6 6 6 6 6 6 6 6 6 6 6 6 6 6\n",
      " 6 6 6 6 6 6 6 6 6 6 6 6 6 6 6 6 6 6 6 6 6 6 6 6 6 6 6 6 6 6 6 6 6 6 6 6 6\n",
      " 6 6 6 6 6 6 6 6 6 6 6 6 6 6 6 6 6 6 6]\n"
     ]
    }
   ],
   "source": [
    "#replace categorical data with numerical:\n",
    "df['emotion'].replace(['anger', 'contempt', 'disgust', 'fear', 'happy', 'sadness', 'surprise'],\n",
    "                     [0, 1, 2, 3, 4, 5, 6], inplace=True)\n",
    "y = df['emotion']\n",
    "y = np.array(y)\n",
    "print(y)"
   ]
  },
  {
   "cell_type": "code",
   "execution_count": 7,
   "id": "00c7f1d1",
   "metadata": {},
   "outputs": [],
   "source": [
    "x_train, x_test, y_train, y_test = train_test_split(x, y, test_size=0.2, random_state=196)\n",
    "#get rid of any imposed order\n",
    "y_train, x_train = shuffle(y_train, x_train)\n",
    "y_test, x_test = shuffle(y_test, x_test)"
   ]
  },
  {
   "cell_type": "code",
   "execution_count": 8,
   "id": "081b270b",
   "metadata": {},
   "outputs": [],
   "source": [
    "x_train = tf.keras.utils.normalize(x_train)\n",
    "x_test = tf.keras.utils.normalize(x_test)"
   ]
  },
  {
   "cell_type": "code",
   "execution_count": 9,
   "id": "a211eca4",
   "metadata": {},
   "outputs": [
    {
     "name": "stdout",
     "output_type": "stream",
     "text": [
      "(784, 2304)\n"
     ]
    }
   ],
   "source": [
    "print(x_train.shape)"
   ]
  },
  {
   "cell_type": "code",
   "execution_count": 282,
   "id": "d203552f",
   "metadata": {},
   "outputs": [],
   "source": [
    "#creating the model:\n",
    "model = Sequential()"
   ]
  },
  {
   "cell_type": "code",
   "execution_count": 283,
   "id": "88263631",
   "metadata": {},
   "outputs": [],
   "source": [
    "model.add(tf.keras.layers.Flatten()) # input layer\n",
    "model.add(Dense(128, activation='relu')) # hidden layer 1\n",
    "\n",
    "model.add(Dense(128, activation='relu')) # hidden layer 2\n",
    "\n",
    "\n",
    "model.add(Dense(7, activation='softmax')) # output layer"
   ]
  },
  {
   "cell_type": "code",
   "execution_count": 284,
   "id": "b64e2656",
   "metadata": {},
   "outputs": [],
   "source": [
    "model.compile(optimizer='adam', loss = 'sparse_categorical_crossentropy', metrics=['accuracy'])"
   ]
  },
  {
   "cell_type": "code",
   "execution_count": 285,
   "id": "08d175c6",
   "metadata": {},
   "outputs": [
    {
     "name": "stdout",
     "output_type": "stream",
     "text": [
      "Epoch 1/17\n",
      "25/25 [==============================] - 0s 3ms/step - loss: 1.8460 - accuracy: 0.2538\n",
      "Epoch 2/17\n",
      "25/25 [==============================] - 0s 3ms/step - loss: 1.7627 - accuracy: 0.2844\n",
      "Epoch 3/17\n",
      "25/25 [==============================] - 0s 3ms/step - loss: 1.6594 - accuracy: 0.4298\n",
      "Epoch 4/17\n",
      "25/25 [==============================] - 0s 3ms/step - loss: 1.4906 - accuracy: 0.5115\n",
      "Epoch 5/17\n",
      "25/25 [==============================] - 0s 3ms/step - loss: 1.3112 - accuracy: 0.5293\n",
      "Epoch 6/17\n",
      "25/25 [==============================] - 0s 3ms/step - loss: 1.1697 - accuracy: 0.5765\n",
      "Epoch 7/17\n",
      "25/25 [==============================] - 0s 3ms/step - loss: 1.0675 - accuracy: 0.6250\n",
      "Epoch 8/17\n",
      "25/25 [==============================] - 0s 3ms/step - loss: 0.9517 - accuracy: 0.6747\n",
      "Epoch 9/17\n",
      "25/25 [==============================] - 0s 3ms/step - loss: 0.8582 - accuracy: 0.7054\n",
      "Epoch 10/17\n",
      "25/25 [==============================] - 0s 3ms/step - loss: 0.7861 - accuracy: 0.7258\n",
      "Epoch 11/17\n",
      "25/25 [==============================] - 0s 3ms/step - loss: 0.7198 - accuracy: 0.7526\n",
      "Epoch 12/17\n",
      "25/25 [==============================] - 0s 3ms/step - loss: 0.6833 - accuracy: 0.7513\n",
      "Epoch 13/17\n",
      "25/25 [==============================] - 0s 3ms/step - loss: 0.6415 - accuracy: 0.7768\n",
      "Epoch 14/17\n",
      "25/25 [==============================] - 0s 3ms/step - loss: 0.6022 - accuracy: 0.7934\n",
      "Epoch 15/17\n",
      "25/25 [==============================] - 0s 3ms/step - loss: 0.5567 - accuracy: 0.8253\n",
      "Epoch 16/17\n",
      "25/25 [==============================] - 0s 3ms/step - loss: 0.5294 - accuracy: 0.8189\n",
      "Epoch 17/17\n",
      "25/25 [==============================] - 0s 3ms/step - loss: 0.4884 - accuracy: 0.8380\n"
     ]
    },
    {
     "data": {
      "text/plain": [
       "<keras.callbacks.History at 0x1b9eff448e0>"
      ]
     },
     "execution_count": 285,
     "metadata": {},
     "output_type": "execute_result"
    }
   ],
   "source": [
    "model.fit(x_train, y_train, epochs=17, shuffle=True)"
   ]
  },
  {
   "cell_type": "code",
   "execution_count": 286,
   "id": "a3e2540e",
   "metadata": {},
   "outputs": [
    {
     "name": "stdout",
     "output_type": "stream",
     "text": [
      "7/7 [==============================] - 0s 1ms/step - loss: 0.5612 - accuracy: 0.7919\n",
      "0.5612150430679321 0.7918781638145447\n"
     ]
    }
   ],
   "source": [
    "#validation:\n",
    "val_loss, val_acc = model.evaluate(x_test, y_test)\n",
    "print(val_loss, val_acc)"
   ]
  },
  {
   "cell_type": "code",
   "execution_count": 254,
   "id": "807aa2c1",
   "metadata": {},
   "outputs": [
    {
     "name": "stdout",
     "output_type": "stream",
     "text": [
      "[[0.00377773 0.00260533 0.00260533 ... 0.00690412 0.00807652 0.01485037]\n",
      " [0.00377773 0.00338693 0.00312639 ... 0.00586199 0.00651332 0.01224504]\n",
      " [0.00495012 0.00495012 0.00312639 ... 0.00586199 0.00599226 0.01172398]\n",
      " ...\n",
      " [0.01276611 0.01328718 0.01341744 ... 0.01498064 0.01550171 0.01537144]\n",
      " [0.01341744 0.01302664 0.01315691 ... 0.01758597 0.01472011 0.01537144]\n",
      " [0.01276611 0.01315691 0.01315691 ... 0.02865862 0.0178465  0.01511091]]\n"
     ]
    }
   ],
   "source": [
    "#create a matrix for displaying the image\n",
    "count = 0\n",
    "matrix = []\n",
    "for i in range(48):\n",
    "    new_arr = []\n",
    "    matrix.append(new_arr)\n",
    "    for j in range(48):\n",
    "        matrix[i].append(x_test[0][count])\n",
    "        count +=1\n",
    "        \n",
    "matrix = np.array(matrix)\n",
    "print(matrix)"
   ]
  },
  {
   "cell_type": "code",
   "execution_count": 255,
   "id": "6649d759",
   "metadata": {},
   "outputs": [
    {
     "name": "stdout",
     "output_type": "stream",
     "text": [
      "48\n"
     ]
    },
    {
     "data": {
      "image/png": "[encoded data removed]",
      "text/plain": [
       "<Figure size 432x288 with 1 Axes>"
      ]
     },
     "metadata": {
      "needs_background": "light"
     },
     "output_type": "display_data"
    }
   ],
   "source": [
    "import matplotlib.pyplot as plt\n",
    "import cv2\n",
    "\n",
    "print(len(matrix))\n",
    "plt.imshow(matrix, cmap=plt.cm.binary)\n",
    "plt.show()\n",
    "\n",
    "\n"
   ]
  },
  {
   "cell_type": "code",
   "execution_count": 256,
   "id": "95caa11e",
   "metadata": {},
   "outputs": [
    {
     "name": "stdout",
     "output_type": "stream",
     "text": [
      "WARNING:tensorflow:Layers in a Sequential model should only have a single input tensor, but we receive a <class 'tuple'> input: (<tf.Tensor 'IteratorGetNext:0' shape=(None, 2304) dtype=float32>,)\n",
      "Consider rewriting this model with the Functional API.\n",
      "[[2.93283316e-04 3.25206574e-03 1.84411518e-04 ... 3.06458361e-07\n",
      "  3.70182246e-02 9.58116949e-01]\n",
      " [3.34093779e-01 2.57867694e-01 7.12123215e-02 ... 1.80223323e-02\n",
      "  1.27986476e-01 1.55234581e-03]\n",
      " [2.09505470e-05 1.15292589e-03 2.30748519e-05 ... 2.19441134e-07\n",
      "  8.08933936e-03 9.90068614e-01]\n",
      " ...\n",
      " [3.06044094e-04 1.40037981e-03 1.72500927e-02 ... 9.37186897e-01\n",
      "  1.30534725e-04 3.00423039e-06]\n",
      " [3.36928247e-03 2.71216363e-01 7.56689487e-03 ... 1.13993056e-01\n",
      "  2.75725350e-02 1.77217871e-02]\n",
      " [1.88889861e-01 8.46265256e-03 7.06066668e-01 ... 3.31767797e-02\n",
      "  2.89172735e-02 2.05757402e-04]]\n"
     ]
    }
   ],
   "source": [
    "predictions = model.predict([x_test])\n",
    "print(predictions)"
   ]
  },
  {
   "cell_type": "code",
   "execution_count": 257,
   "id": "0cb3db9b",
   "metadata": {},
   "outputs": [
    {
     "name": "stdout",
     "output_type": "stream",
     "text": [
      "6\n",
      "[6, 0, 6, 6, 4, 6, 0, 6, 4, 2, 6, 6, 2, 0, 4, 0, 6, 2, 4, 6, 6, 0, 2, 4, 2, 6, 4, 1, 2, 3, 6, 4, 4, 0, 4, 2, 6, 5, 3, 1, 2, 2, 3, 3, 1, 0, 6, 2, 3, 6, 5, 3, 0, 1, 0, 6, 0, 2, 5, 4, 2, 2, 2, 5, 4, 3, 5, 3, 6, 1, 3, 6, 2, 0, 2, 2, 0, 6, 0, 6, 6, 0, 5, 6, 2, 6, 4, 2, 0, 2, 6, 0, 2, 6, 3, 2, 0, 5, 0, 4, 6, 0, 0, 2, 6, 1, 2, 2, 1, 6, 2, 5, 4, 6, 6, 2, 1, 2, 6, 6, 0, 0, 6, 6, 1, 0, 2, 6, 4, 4, 2, 0, 4, 2, 6, 6, 4, 4, 0, 6, 6, 0, 4, 0, 2, 2, 4, 2, 0, 6, 6, 4, 0, 2, 4, 5, 4, 4, 0, 4, 6, 6, 5, 3, 4, 2, 5, 2, 4, 6, 6, 2, 4, 0, 3, 4, 5, 4, 4, 2, 6, 2, 6, 6, 2, 4, 3, 5, 4, 4, 0, 2, 4, 6, 4, 3, 2]\n"
     ]
    }
   ],
   "source": [
    "print(np.argmax(predictions[0]))\n",
    "rounded_preds = []\n",
    "for prediction in predictions:\n",
    "    rounded_preds.append(np.argmax(prediction))\n",
    "    \n",
    "print(rounded_preds)"
   ]
  },
  {
   "cell_type": "code",
   "execution_count": 258,
   "id": "84c8b5a0",
   "metadata": {},
   "outputs": [
    {
     "name": "stdout",
     "output_type": "stream",
     "text": [
      "[[0.00377773 0.00260533 0.00260533 ... 0.00690412 0.00807652 0.01485037]\n",
      " [0.00377773 0.00338693 0.00312639 ... 0.00586199 0.00651332 0.01224504]\n",
      " [0.00495012 0.00495012 0.00312639 ... 0.00586199 0.00599226 0.01172398]\n",
      " ...\n",
      " [0.01276611 0.01328718 0.01341744 ... 0.01498064 0.01550171 0.01537144]\n",
      " [0.01341744 0.01302664 0.01315691 ... 0.01758597 0.01472011 0.01537144]\n",
      " [0.01276611 0.01315691 0.01315691 ... 0.02865862 0.0178465  0.01511091]]\n"
     ]
    },
    {
     "data": {
      "image/png": "[encoded data removed]",
      "text/plain": [
       "<Figure size 432x288 with 1 Axes>"
      ]
     },
     "metadata": {
      "needs_background": "light"
     },
     "output_type": "display_data"
    }
   ],
   "source": [
    "count = 0\n",
    "matrix = []\n",
    "for i in range(48):\n",
    "    new_arr = []\n",
    "    matrix.append(new_arr)\n",
    "    for j in range(48):\n",
    "        matrix[i].append(x_test[0][count])\n",
    "        count +=1\n",
    "        \n",
    "matrix = np.array(matrix)\n",
    "print(matrix)\n",
    "\n",
    "plt.imshow(matrix, cmap=plt.cm.binary)\n",
    "plt.show()"
   ]
  },
  {
   "cell_type": "code",
   "execution_count": 259,
   "id": "3c35e5c1",
   "metadata": {},
   "outputs": [],
   "source": [
    "%matplotlib inline\n",
    "from sklearn.metrics import confusion_matrix\n",
    "import itertools\n",
    "\n",
    "cm = confusion_matrix(y_true=y_test, y_pred=rounded_preds)"
   ]
  },
  {
   "cell_type": "code",
   "execution_count": 260,
   "id": "bd16c3d5",
   "metadata": {},
   "outputs": [],
   "source": [
    "def plot_confusion_matrix(cm, classes, normalize=False, title=\"Confusion Matrix\", cmap=plt.cm.Blues):\n",
    "    plt.imshow(cm, interpolation='nearest', cmap=cmap)\n",
    "    plt.title(title)\n",
    "    plt.colorbar()\n",
    "    tick_marks = np.arange(len(classes))\n",
    "    plt.xticks(tick_marks, classes, rotation=45)\n",
    "    plt.yticks(tick_marks, classes)\n",
    "    \n",
    "    if normalize:\n",
    "        cm = cm.astype('float') / cm.sum(axis=1)[:, np.newaxis]\n",
    "        print(\"Normalized confusion matrix\")\n",
    "        \n",
    "    else:\n",
    "        print('Confusion matrix, without normalization')\n",
    "        \n",
    "    print(cm)\n",
    "    \n",
    "    thresh = cm.max() / 2.\n",
    "    for i, j in itertools.product(range(cm.shape[0]), range(cm.shape[1])):\n",
    "        plt.text(j, i, cm[i, j], \n",
    "            horizontalalignment='center', \n",
    "            color=\"white\" if cm[i, j] > thresh else \"black\")\n",
    "            \n",
    "    plt.tight_layout()\n",
    "    plt.ylabel('True Label')\n",
    "    plt.xlabel('Precicted Label')"
   ]
  },
  {
   "cell_type": "code",
   "execution_count": 261,
   "id": "90386ee8",
   "metadata": {},
   "outputs": [
    {
     "name": "stdout",
     "output_type": "stream",
     "text": [
      "Confusion matrix, without normalization\n",
      "[[20  0  8  0  0  2  0]\n",
      " [ 2  5  0  3  0  0  0]\n",
      " [ 6  0 30  4  0  0  0]\n",
      " [ 0  2  2  6  1  0  0]\n",
      " [ 0  0  2  0 36  0  0]\n",
      " [ 4  2  0  1  0  9  1]\n",
      " [ 0  0  1  0  0  2 48]]\n"
     ]
    },
    {
     "data": {
      "image/png": "[encoded data removed]",
      "text/plain": [
       "<Figure size 432x288 with 2 Axes>"
      ]
     },
     "metadata": {
      "needs_background": "light"
     },
     "output_type": "display_data"
    }
   ],
   "source": [
    "cm_plot_labels = ['anger', 'contempt', 'disgust', 'fear', 'happy', 'sadness', 'surprise']\n",
    "plot_confusion_matrix(cm=cm, classes=cm_plot_labels, title='Confusion Matrix')"
   ]
  },
  {
   "cell_type": "code",
   "execution_count": 266,
   "id": "fbb0c94b",
   "metadata": {},
   "outputs": [],
   "source": [
    "from keras.wrappers.scikit_learn import KerasClassifier\n",
    "def create_model():\n",
    "    #create model\n",
    "    model = Sequential()\n",
    "    model.add(Dense(128, activation='relu')) # hidden layer 1\n",
    "    model.add(Dense(128, activation='relu')) # hidden layer 2\n",
    "    model.add(Dense(7, activation='softmax')) # output layer\n",
    "    #compile model\n",
    "    model.compile(loss='sparse_categorical_crossentropy', optimizer='adam', metrics=['accuracy'])\n",
    "    return model\n",
    "\n",
    "model = KerasClassifier(build_fn=create_model, verbose=0)\n",
    "    "
   ]
  },
  {
   "cell_type": "code",
   "execution_count": 267,
   "id": "dd63bb7f",
   "metadata": {},
   "outputs": [],
   "source": [
    "from sklearn.model_selection import GridSearchCV\n",
    "epochs = [10, 15, 50, 100]\n",
    "params = dict(epochs=epochs)\n",
    "grid = GridSearchCV(estimator=model, param_grid=params, n_jobs=-1, cv=3)\n",
    "grid_result = grid.fit(x_train, y_train)"
   ]
  },
  {
   "cell_type": "code",
   "execution_count": 268,
   "id": "eb97c897",
   "metadata": {},
   "outputs": [
    {
     "name": "stdout",
     "output_type": "stream",
     "text": [
      "Best: 0.950240 using {'epochs': 100}\n"
     ]
    }
   ],
   "source": [
    "print(\"Best: %f using %s\" % (grid_result.best_score_, grid_result.best_params_))\n"
   ]
  },
  {
   "cell_type": "code",
   "execution_count": 287,
   "id": "ec47bf67",
   "metadata": {},
   "outputs": [
    {
     "name": "stdout",
     "output_type": "stream",
     "text": [
      "Epoch 1/50\n",
      "25/25 [==============================] - 0s 3ms/step - loss: 1.8629 - accuracy: 0.2232\n",
      "Epoch 2/50\n",
      "25/25 [==============================] - 0s 3ms/step - loss: 1.7836 - accuracy: 0.3380\n",
      "Epoch 3/50\n",
      "25/25 [==============================] - 0s 3ms/step - loss: 1.6912 - accuracy: 0.3967\n",
      "Epoch 4/50\n",
      "25/25 [==============================] - 0s 3ms/step - loss: 1.5480 - accuracy: 0.4936\n",
      "Epoch 5/50\n",
      "25/25 [==============================] - 0s 3ms/step - loss: 1.3602 - accuracy: 0.5446\n",
      "Epoch 6/50\n",
      "25/25 [==============================] - 0s 3ms/step - loss: 1.2231 - accuracy: 0.5676\n",
      "Epoch 7/50\n",
      "25/25 [==============================] - 0s 3ms/step - loss: 1.0957 - accuracy: 0.6161\n",
      "Epoch 8/50\n",
      "25/25 [==============================] - 0s 3ms/step - loss: 1.0095 - accuracy: 0.6429\n",
      "Epoch 9/50\n",
      "25/25 [==============================] - 0s 3ms/step - loss: 0.9273 - accuracy: 0.6658\n",
      "Epoch 10/50\n",
      "25/25 [==============================] - 0s 3ms/step - loss: 0.8397 - accuracy: 0.7168\n",
      "Epoch 11/50\n",
      "25/25 [==============================] - 0s 3ms/step - loss: 0.7760 - accuracy: 0.7398\n",
      "Epoch 12/50\n",
      "25/25 [==============================] - 0s 3ms/step - loss: 0.7381 - accuracy: 0.7321\n",
      "Epoch 13/50\n",
      "25/25 [==============================] - 0s 3ms/step - loss: 0.6799 - accuracy: 0.7717\n",
      "Epoch 14/50\n",
      "25/25 [==============================] - 0s 3ms/step - loss: 0.6510 - accuracy: 0.7742\n",
      "Epoch 15/50\n",
      "25/25 [==============================] - 0s 3ms/step - loss: 0.6314 - accuracy: 0.8010\n",
      "Epoch 16/50\n",
      "25/25 [==============================] - 0s 3ms/step - loss: 0.5959 - accuracy: 0.8023\n",
      "Epoch 17/50\n",
      "25/25 [==============================] - 0s 3ms/step - loss: 0.5625 - accuracy: 0.8202\n",
      "Epoch 18/50\n",
      "25/25 [==============================] - 0s 3ms/step - loss: 0.5211 - accuracy: 0.8418\n",
      "Epoch 19/50\n",
      "25/25 [==============================] - 0s 3ms/step - loss: 0.4766 - accuracy: 0.8444\n",
      "Epoch 20/50\n",
      "25/25 [==============================] - 0s 3ms/step - loss: 0.4534 - accuracy: 0.8661\n",
      "Epoch 21/50\n",
      "25/25 [==============================] - 0s 3ms/step - loss: 0.4188 - accuracy: 0.8827\n",
      "Epoch 22/50\n",
      "25/25 [==============================] - 0s 3ms/step - loss: 0.4031 - accuracy: 0.8941\n",
      "Epoch 23/50\n",
      "25/25 [==============================] - 0s 3ms/step - loss: 0.3871 - accuracy: 0.8992\n",
      "Epoch 24/50\n",
      "25/25 [==============================] - 0s 3ms/step - loss: 0.3599 - accuracy: 0.9056\n",
      "Epoch 25/50\n",
      "25/25 [==============================] - 0s 3ms/step - loss: 0.3534 - accuracy: 0.9069\n",
      "Epoch 26/50\n",
      "25/25 [==============================] - 0s 3ms/step - loss: 0.3212 - accuracy: 0.9235\n",
      "Epoch 27/50\n",
      "25/25 [==============================] - 0s 3ms/step - loss: 0.3182 - accuracy: 0.9184\n",
      "Epoch 28/50\n",
      "25/25 [==============================] - 0s 3ms/step - loss: 0.2962 - accuracy: 0.9324\n",
      "Epoch 29/50\n",
      "25/25 [==============================] - 0s 3ms/step - loss: 0.3411 - accuracy: 0.8852\n",
      "Epoch 30/50\n",
      "25/25 [==============================] - 0s 3ms/step - loss: 0.2704 - accuracy: 0.9337\n",
      "Epoch 31/50\n",
      "25/25 [==============================] - 0s 3ms/step - loss: 0.2435 - accuracy: 0.9490\n",
      "Epoch 32/50\n",
      "25/25 [==============================] - 0s 3ms/step - loss: 0.2306 - accuracy: 0.9477\n",
      "Epoch 33/50\n",
      "25/25 [==============================] - 0s 3ms/step - loss: 0.2362 - accuracy: 0.9439\n",
      "Epoch 34/50\n",
      "25/25 [==============================] - 0s 3ms/step - loss: 0.2111 - accuracy: 0.9656\n",
      "Epoch 35/50\n",
      "25/25 [==============================] - 0s 3ms/step - loss: 0.2075 - accuracy: 0.9566\n",
      "Epoch 36/50\n",
      "25/25 [==============================] - 0s 4ms/step - loss: 0.2176 - accuracy: 0.9426\n",
      "Epoch 37/50\n",
      "25/25 [==============================] - 0s 4ms/step - loss: 0.1872 - accuracy: 0.9656\n",
      "Epoch 38/50\n",
      "25/25 [==============================] - 0s 5ms/step - loss: 0.1736 - accuracy: 0.9656\n",
      "Epoch 39/50\n",
      "25/25 [==============================] - 0s 4ms/step - loss: 0.1656 - accuracy: 0.9656\n",
      "Epoch 40/50\n",
      "25/25 [==============================] - 0s 4ms/step - loss: 0.1604 - accuracy: 0.9656\n",
      "Epoch 41/50\n",
      "25/25 [==============================] - 0s 4ms/step - loss: 0.1464 - accuracy: 0.9745\n",
      "Epoch 42/50\n",
      "25/25 [==============================] - 0s 4ms/step - loss: 0.1463 - accuracy: 0.9630\n",
      "Epoch 43/50\n",
      "25/25 [==============================] - 0s 5ms/step - loss: 0.1453 - accuracy: 0.9707\n",
      "Epoch 44/50\n",
      "25/25 [==============================] - 0s 4ms/step - loss: 0.1335 - accuracy: 0.9770\n",
      "Epoch 45/50\n",
      "25/25 [==============================] - 0s 4ms/step - loss: 0.1237 - accuracy: 0.9758\n",
      "Epoch 46/50\n",
      "25/25 [==============================] - 0s 4ms/step - loss: 0.1223 - accuracy: 0.9758\n",
      "Epoch 47/50\n",
      "25/25 [==============================] - 0s 4ms/step - loss: 0.1160 - accuracy: 0.9796\n",
      "Epoch 48/50\n",
      "25/25 [==============================] - 0s 4ms/step - loss: 0.1228 - accuracy: 0.9732\n",
      "Epoch 49/50\n",
      "25/25 [==============================] - 0s 4ms/step - loss: 0.1023 - accuracy: 0.9821\n",
      "Epoch 50/50\n",
      "25/25 [==============================] - 0s 4ms/step - loss: 0.0980 - accuracy: 0.9860\n"
     ]
    },
    {
     "data": {
      "text/plain": [
       "<keras.callbacks.History at 0x1b9eba5a640>"
      ]
     },
     "execution_count": 287,
     "metadata": {},
     "output_type": "execute_result"
    }
   ],
   "source": [
    "model = create_model()\n",
    "model.fit(x_train, y_train, epochs=50, shuffle=True)"
   ]
  },
  {
   "cell_type": "code",
   "execution_count": 288,
   "id": "0fb49aff",
   "metadata": {},
   "outputs": [
    {
     "name": "stdout",
     "output_type": "stream",
     "text": [
      "7/7 [==============================] - 0s 2ms/step - loss: 0.1748 - accuracy: 0.9492\n"
     ]
    }
   ],
   "source": [
    "val_loss, val_acc = model.evaluate(x_test, y_test)"
   ]
  },
  {
   "cell_type": "code",
   "execution_count": null,
   "id": "7c73cecb",
   "metadata": {},
   "outputs": [],
   "source": []
  }
 ],
 "metadata": {
  "kernelspec": {
   "display_name": "Python 3",
   "language": "python",
   "name": "python3"
  },
  "language_info": {
   "codemirror_mode": {
    "name": "ipython",
    "version": 3
   },
   "file_extension": ".py",
   "mimetype": "text/x-python",
   "name": "python",
   "nbconvert_exporter": "python",
   "pygments_lexer": "ipython3",
   "version": "3.8.8"
  }
 },
 "nbformat": 4,
 "nbformat_minor": 5
}
