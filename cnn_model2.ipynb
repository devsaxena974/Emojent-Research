{
 "cells": [
  {
   "cell_type": "code",
   "execution_count": 2,
   "id": "2524670d",
   "metadata": {},
   "outputs": [],
   "source": [
    "import pandas as pd\n",
    "import numpy as np\n",
    "from numpy import newaxis"
   ]
  },
  {
   "cell_type": "code",
   "execution_count": 75,
   "id": "463e4844",
   "metadata": {},
   "outputs": [
    {
     "data": {
      "text/html": [
       "<div>\n",
       "<style scoped>\n",
       "    .dataframe tbody tr th:only-of-type {\n",
       "        vertical-align: middle;\n",
       "    }\n",
       "\n",
       "    .dataframe tbody tr th {\n",
       "        vertical-align: top;\n",
       "    }\n",
       "\n",
       "    .dataframe thead th {\n",
       "        text-align: right;\n",
       "    }\n",
       "</style>\n",
       "<table border=\"1\" class=\"dataframe\">\n",
       "  <thead>\n",
       "    <tr style=\"text-align: right;\">\n",
       "      <th></th>\n",
       "      <th>(0, 0)</th>\n",
       "      <th>(0, 1)</th>\n",
       "      <th>(0, 2)</th>\n",
       "      <th>(0, 3)</th>\n",
       "      <th>(0, 4)</th>\n",
       "      <th>(0, 5)</th>\n",
       "      <th>(0, 6)</th>\n",
       "      <th>(0, 7)</th>\n",
       "      <th>(0, 8)</th>\n",
       "      <th>(0, 9)</th>\n",
       "      <th>...</th>\n",
       "      <th>(47, 39)</th>\n",
       "      <th>(47, 40)</th>\n",
       "      <th>(47, 41)</th>\n",
       "      <th>(47, 42)</th>\n",
       "      <th>(47, 43)</th>\n",
       "      <th>(47, 44)</th>\n",
       "      <th>(47, 45)</th>\n",
       "      <th>(47, 46)</th>\n",
       "      <th>(47, 47)</th>\n",
       "      <th>emotion</th>\n",
       "    </tr>\n",
       "  </thead>\n",
       "  <tbody>\n",
       "    <tr>\n",
       "      <th>0</th>\n",
       "      <td>50</td>\n",
       "      <td>32</td>\n",
       "      <td>15</td>\n",
       "      <td>11</td>\n",
       "      <td>12</td>\n",
       "      <td>10</td>\n",
       "      <td>10</td>\n",
       "      <td>8</td>\n",
       "      <td>15</td>\n",
       "      <td>10</td>\n",
       "      <td>...</td>\n",
       "      <td>157</td>\n",
       "      <td>156</td>\n",
       "      <td>152</td>\n",
       "      <td>148</td>\n",
       "      <td>151</td>\n",
       "      <td>141</td>\n",
       "      <td>143</td>\n",
       "      <td>136</td>\n",
       "      <td>83</td>\n",
       "      <td>angry</td>\n",
       "    </tr>\n",
       "    <tr>\n",
       "      <th>1</th>\n",
       "      <td>29</td>\n",
       "      <td>24</td>\n",
       "      <td>29</td>\n",
       "      <td>11</td>\n",
       "      <td>15</td>\n",
       "      <td>22</td>\n",
       "      <td>26</td>\n",
       "      <td>11</td>\n",
       "      <td>7</td>\n",
       "      <td>17</td>\n",
       "      <td>...</td>\n",
       "      <td>109</td>\n",
       "      <td>165</td>\n",
       "      <td>148</td>\n",
       "      <td>75</td>\n",
       "      <td>49</td>\n",
       "      <td>33</td>\n",
       "      <td>15</td>\n",
       "      <td>24</td>\n",
       "      <td>24</td>\n",
       "      <td>angry</td>\n",
       "    </tr>\n",
       "    <tr>\n",
       "      <th>2</th>\n",
       "      <td>0</td>\n",
       "      <td>0</td>\n",
       "      <td>0</td>\n",
       "      <td>0</td>\n",
       "      <td>0</td>\n",
       "      <td>0</td>\n",
       "      <td>0</td>\n",
       "      <td>0</td>\n",
       "      <td>0</td>\n",
       "      <td>0</td>\n",
       "      <td>...</td>\n",
       "      <td>0</td>\n",
       "      <td>0</td>\n",
       "      <td>0</td>\n",
       "      <td>0</td>\n",
       "      <td>0</td>\n",
       "      <td>0</td>\n",
       "      <td>0</td>\n",
       "      <td>0</td>\n",
       "      <td>0</td>\n",
       "      <td>angry</td>\n",
       "    </tr>\n",
       "    <tr>\n",
       "      <th>3</th>\n",
       "      <td>155</td>\n",
       "      <td>138</td>\n",
       "      <td>98</td>\n",
       "      <td>112</td>\n",
       "      <td>94</td>\n",
       "      <td>97</td>\n",
       "      <td>111</td>\n",
       "      <td>107</td>\n",
       "      <td>101</td>\n",
       "      <td>84</td>\n",
       "      <td>...</td>\n",
       "      <td>97</td>\n",
       "      <td>95</td>\n",
       "      <td>92</td>\n",
       "      <td>94</td>\n",
       "      <td>101</td>\n",
       "      <td>108</td>\n",
       "      <td>111</td>\n",
       "      <td>112</td>\n",
       "      <td>109</td>\n",
       "      <td>angry</td>\n",
       "    </tr>\n",
       "    <tr>\n",
       "      <th>4</th>\n",
       "      <td>211</td>\n",
       "      <td>215</td>\n",
       "      <td>220</td>\n",
       "      <td>221</td>\n",
       "      <td>219</td>\n",
       "      <td>216</td>\n",
       "      <td>213</td>\n",
       "      <td>210</td>\n",
       "      <td>207</td>\n",
       "      <td>205</td>\n",
       "      <td>...</td>\n",
       "      <td>170</td>\n",
       "      <td>168</td>\n",
       "      <td>162</td>\n",
       "      <td>170</td>\n",
       "      <td>169</td>\n",
       "      <td>160</td>\n",
       "      <td>159</td>\n",
       "      <td>156</td>\n",
       "      <td>152</td>\n",
       "      <td>angry</td>\n",
       "    </tr>\n",
       "  </tbody>\n",
       "</table>\n",
       "<p>5 rows × 2305 columns</p>\n",
       "</div>"
      ],
      "text/plain": [
       "   (0, 0)  (0, 1)  (0, 2)  (0, 3)  (0, 4)  (0, 5)  (0, 6)  (0, 7)  (0, 8)  \\\n",
       "0      50      32      15      11      12      10      10       8      15   \n",
       "1      29      24      29      11      15      22      26      11       7   \n",
       "2       0       0       0       0       0       0       0       0       0   \n",
       "3     155     138      98     112      94      97     111     107     101   \n",
       "4     211     215     220     221     219     216     213     210     207   \n",
       "\n",
       "   (0, 9)  ...  (47, 39)  (47, 40)  (47, 41)  (47, 42)  (47, 43)  (47, 44)  \\\n",
       "0      10  ...       157       156       152       148       151       141   \n",
       "1      17  ...       109       165       148        75        49        33   \n",
       "2       0  ...         0         0         0         0         0         0   \n",
       "3      84  ...        97        95        92        94       101       108   \n",
       "4     205  ...       170       168       162       170       169       160   \n",
       "\n",
       "   (47, 45)  (47, 46)  (47, 47)  emotion  \n",
       "0       143       136        83    angry  \n",
       "1        15        24        24    angry  \n",
       "2         0         0         0    angry  \n",
       "3       111       112       109    angry  \n",
       "4       159       156       152    angry  \n",
       "\n",
       "[5 rows x 2305 columns]"
      ]
     },
     "execution_count": 75,
     "metadata": {},
     "output_type": "execute_result"
    }
   ],
   "source": [
    "df = pd.read_csv('../CSVData/emotion_data1.csv')\n",
    "df.head(5)"
   ]
  },
  {
   "cell_type": "code",
   "execution_count": 76,
   "id": "c773f1a8",
   "metadata": {},
   "outputs": [
    {
     "name": "stdout",
     "output_type": "stream",
     "text": [
      "(28709, 2304)\n",
      "(28709, 48, 48, 1)\n",
      "(28709, 2304)\n"
     ]
    }
   ],
   "source": [
    "x = df.drop(['emotion'], axis=1)\n",
    "x = np.array(x)\n",
    "print(x.shape)\n",
    "x_train = []\n",
    "for entry in x:\n",
    "    index = 0\n",
    "    new_dimension = []\n",
    "    for i in range(48):\n",
    "        inner_dim = []\n",
    "        for j in range(48):\n",
    "            inner_dim.append(entry[index])\n",
    "            index += 1\n",
    "        new_dimension.append(inner_dim)\n",
    "    x_train.append(new_dimension)\n",
    "            \n",
    "x_train = np.array(x_train)\n",
    "X_train = x_train[..., newaxis]\n",
    "print(X_train.shape)\n",
    "print(x.shape)"
   ]
  },
  {
   "cell_type": "code",
   "execution_count": 71,
   "id": "193abd6c",
   "metadata": {},
   "outputs": [
    {
     "name": "stdout",
     "output_type": "stream",
     "text": [
      "(28709,)\n"
     ]
    }
   ],
   "source": [
    "df['emotion'].replace(['angry', 'disgust', 'fear', 'happy', 'neutral', 'sad', 'surprise'], [0, 1, 2, 3, 4, 5, 6], inplace=True)\n",
    "y = df['emotion']\n",
    "y_train = np.array(y)\n",
    "print(y_train.shape)"
   ]
  },
  {
   "cell_type": "code",
   "execution_count": 72,
   "id": "907489f4",
   "metadata": {},
   "outputs": [
    {
     "data": {
      "image/png": "[encoded data removed]",
      "text/plain": [
       "<Figure size 432x288 with 1 Axes>"
      ]
     },
     "metadata": {
      "needs_background": "light"
     },
     "output_type": "display_data"
    }
   ],
   "source": [
    "import matplotlib.pyplot as plt\n",
    "import cv2\n",
    "\n",
    "plt.imshow(x_train[0], cmap=plt.cm.binary)\n",
    "plt.show()"
   ]
  },
  {
   "cell_type": "code",
   "execution_count": 10,
   "id": "2881d79f",
   "metadata": {},
   "outputs": [],
   "source": [
    "#preprocess test data"
   ]
  },
  {
   "cell_type": "code",
   "execution_count": 35,
   "id": "4a9043da",
   "metadata": {},
   "outputs": [],
   "source": [
    "import os\n",
    "import csv\n",
    "import cv2"
   ]
  },
  {
   "cell_type": "code",
   "execution_count": 36,
   "id": "79b0e552",
   "metadata": {},
   "outputs": [
    {
     "data": {
      "text/plain": [
       "24393"
      ]
     },
     "execution_count": 36,
     "metadata": {},
     "output_type": "execute_result"
    }
   ],
   "source": [
    "f = open('../CSVData/emotion_data1test.csv', 'w')\n",
    "writer = csv.writer(f)\n",
    "headers = []\n",
    "for i in range(48):\n",
    "    for j in range(48):\n",
    "        headers.append(\"(\" + str(i) + \", \" + str(j) + \")\")\n",
    "headers.append('emotion')\n",
    "writer.writerow(headers)"
   ]
  },
  {
   "cell_type": "code",
   "execution_count": 51,
   "id": "42c3fa50",
   "metadata": {},
   "outputs": [
    {
     "data": {
      "text/html": [
       "<div>\n",
       "<style scoped>\n",
       "    .dataframe tbody tr th:only-of-type {\n",
       "        vertical-align: middle;\n",
       "    }\n",
       "\n",
       "    .dataframe tbody tr th {\n",
       "        vertical-align: top;\n",
       "    }\n",
       "\n",
       "    .dataframe thead th {\n",
       "        text-align: right;\n",
       "    }\n",
       "</style>\n",
       "<table border=\"1\" class=\"dataframe\">\n",
       "  <thead>\n",
       "    <tr style=\"text-align: right;\">\n",
       "      <th></th>\n",
       "      <th>(0, 0)</th>\n",
       "      <th>(0, 1)</th>\n",
       "      <th>(0, 2)</th>\n",
       "      <th>(0, 3)</th>\n",
       "      <th>(0, 4)</th>\n",
       "      <th>(0, 5)</th>\n",
       "      <th>(0, 6)</th>\n",
       "      <th>(0, 7)</th>\n",
       "      <th>(0, 8)</th>\n",
       "      <th>(0, 9)</th>\n",
       "      <th>...</th>\n",
       "      <th>(47, 39)</th>\n",
       "      <th>(47, 40)</th>\n",
       "      <th>(47, 41)</th>\n",
       "      <th>(47, 42)</th>\n",
       "      <th>(47, 43)</th>\n",
       "      <th>(47, 44)</th>\n",
       "      <th>(47, 45)</th>\n",
       "      <th>(47, 46)</th>\n",
       "      <th>(47, 47)</th>\n",
       "      <th>emotion</th>\n",
       "    </tr>\n",
       "  </thead>\n",
       "  <tbody>\n",
       "    <tr>\n",
       "      <th>0</th>\n",
       "      <td>46</td>\n",
       "      <td>34</td>\n",
       "      <td>26</td>\n",
       "      <td>23</td>\n",
       "      <td>12</td>\n",
       "      <td>32</td>\n",
       "      <td>35</td>\n",
       "      <td>26</td>\n",
       "      <td>26</td>\n",
       "      <td>38</td>\n",
       "      <td>...</td>\n",
       "      <td>150</td>\n",
       "      <td>135</td>\n",
       "      <td>164</td>\n",
       "      <td>168</td>\n",
       "      <td>131</td>\n",
       "      <td>128</td>\n",
       "      <td>165</td>\n",
       "      <td>180</td>\n",
       "      <td>189</td>\n",
       "      <td>angry</td>\n",
       "    </tr>\n",
       "    <tr>\n",
       "      <th>1</th>\n",
       "      <td>55</td>\n",
       "      <td>33</td>\n",
       "      <td>54</td>\n",
       "      <td>32</td>\n",
       "      <td>26</td>\n",
       "      <td>21</td>\n",
       "      <td>50</td>\n",
       "      <td>29</td>\n",
       "      <td>38</td>\n",
       "      <td>45</td>\n",
       "      <td>...</td>\n",
       "      <td>224</td>\n",
       "      <td>218</td>\n",
       "      <td>222</td>\n",
       "      <td>224</td>\n",
       "      <td>222</td>\n",
       "      <td>202</td>\n",
       "      <td>132</td>\n",
       "      <td>163</td>\n",
       "      <td>187</td>\n",
       "      <td>angry</td>\n",
       "    </tr>\n",
       "    <tr>\n",
       "      <th>2</th>\n",
       "      <td>123</td>\n",
       "      <td>123</td>\n",
       "      <td>126</td>\n",
       "      <td>131</td>\n",
       "      <td>124</td>\n",
       "      <td>69</td>\n",
       "      <td>109</td>\n",
       "      <td>149</td>\n",
       "      <td>159</td>\n",
       "      <td>174</td>\n",
       "      <td>...</td>\n",
       "      <td>5</td>\n",
       "      <td>3</td>\n",
       "      <td>5</td>\n",
       "      <td>4</td>\n",
       "      <td>3</td>\n",
       "      <td>2</td>\n",
       "      <td>4</td>\n",
       "      <td>4</td>\n",
       "      <td>3</td>\n",
       "      <td>angry</td>\n",
       "    </tr>\n",
       "    <tr>\n",
       "      <th>3</th>\n",
       "      <td>255</td>\n",
       "      <td>255</td>\n",
       "      <td>255</td>\n",
       "      <td>255</td>\n",
       "      <td>255</td>\n",
       "      <td>255</td>\n",
       "      <td>255</td>\n",
       "      <td>255</td>\n",
       "      <td>255</td>\n",
       "      <td>251</td>\n",
       "      <td>...</td>\n",
       "      <td>177</td>\n",
       "      <td>174</td>\n",
       "      <td>168</td>\n",
       "      <td>88</td>\n",
       "      <td>19</td>\n",
       "      <td>40</td>\n",
       "      <td>37</td>\n",
       "      <td>37</td>\n",
       "      <td>37</td>\n",
       "      <td>angry</td>\n",
       "    </tr>\n",
       "    <tr>\n",
       "      <th>4</th>\n",
       "      <td>127</td>\n",
       "      <td>121</td>\n",
       "      <td>124</td>\n",
       "      <td>137</td>\n",
       "      <td>123</td>\n",
       "      <td>118</td>\n",
       "      <td>120</td>\n",
       "      <td>111</td>\n",
       "      <td>111</td>\n",
       "      <td>109</td>\n",
       "      <td>...</td>\n",
       "      <td>177</td>\n",
       "      <td>186</td>\n",
       "      <td>174</td>\n",
       "      <td>172</td>\n",
       "      <td>226</td>\n",
       "      <td>131</td>\n",
       "      <td>53</td>\n",
       "      <td>118</td>\n",
       "      <td>233</td>\n",
       "      <td>angry</td>\n",
       "    </tr>\n",
       "  </tbody>\n",
       "</table>\n",
       "<p>5 rows × 2305 columns</p>\n",
       "</div>"
      ],
      "text/plain": [
       "   (0, 0)  (0, 1)  (0, 2)  (0, 3)  (0, 4)  (0, 5)  (0, 6)  (0, 7)  (0, 8)  \\\n",
       "0      46      34      26      23      12      32      35      26      26   \n",
       "1      55      33      54      32      26      21      50      29      38   \n",
       "2     123     123     126     131     124      69     109     149     159   \n",
       "3     255     255     255     255     255     255     255     255     255   \n",
       "4     127     121     124     137     123     118     120     111     111   \n",
       "\n",
       "   (0, 9)  ...  (47, 39)  (47, 40)  (47, 41)  (47, 42)  (47, 43)  (47, 44)  \\\n",
       "0      38  ...       150       135       164       168       131       128   \n",
       "1      45  ...       224       218       222       224       222       202   \n",
       "2     174  ...         5         3         5         4         3         2   \n",
       "3     251  ...       177       174       168        88        19        40   \n",
       "4     109  ...       177       186       174       172       226       131   \n",
       "\n",
       "   (47, 45)  (47, 46)  (47, 47)  emotion  \n",
       "0       165       180       189    angry  \n",
       "1       132       163       187    angry  \n",
       "2         4         4         3    angry  \n",
       "3        37        37        37    angry  \n",
       "4        53       118       233    angry  \n",
       "\n",
       "[5 rows x 2305 columns]"
      ]
     },
     "execution_count": 51,
     "metadata": {},
     "output_type": "execute_result"
    }
   ],
   "source": [
    "test_df = pd.read_csv('../CSVData/emotion_data1test.csv')\n",
    "test_df.head()"
   ]
  },
  {
   "cell_type": "code",
   "execution_count": 46,
   "id": "760bdc1d",
   "metadata": {},
   "outputs": [
    {
     "name": "stdout",
     "output_type": "stream",
     "text": [
      "['angry', 'disgust', 'fear', 'happy', 'neutral', 'sad', 'surprise']\n"
     ]
    }
   ],
   "source": [
    "root = os.listdir('../test')\n",
    "print(root)\n",
    "for file in root:\n",
    "    images = os.listdir('../test/' + file)\n",
    "    for image in images:\n",
    "        img = cv2.imread('../test/' + file + '/' + image, 0)\n",
    "        data = []\n",
    "        for row in range(48):\n",
    "            for col in range(48):\n",
    "                data.append(img[row][col])\n",
    "                \n",
    "        data.append(file)\n",
    "        writer.writerow(data)\n",
    "    \n"
   ]
  },
  {
   "cell_type": "code",
   "execution_count": 39,
   "id": "d74ebe8b",
   "metadata": {},
   "outputs": [],
   "source": [
    "#load in test data"
   ]
  },
  {
   "cell_type": "code",
   "execution_count": 52,
   "id": "95bbb9b4",
   "metadata": {},
   "outputs": [
    {
     "name": "stdout",
     "output_type": "stream",
     "text": [
      "(28744, 2304)\n"
     ]
    }
   ],
   "source": [
    "x = test_df.drop(['emotion'], axis=1)\n",
    "x_test = np.array(x)\n",
    "X_test = []\n",
    "for entry in x_test:\n",
    "    index = 0\n",
    "    new_dimension = []\n",
    "    for i in range(48):\n",
    "        inner_dim = []\n",
    "        for j in range(48):\n",
    "            inner_dim.append(entry[index])\n",
    "            index += 1\n",
    "        new_dimension.append(inner_dim)\n",
    "    X_test.append(new_dimension)\n",
    "    \n",
    "X_test = np.array(X_test)\n",
    "print(x_test.shape)"
   ]
  },
  {
   "cell_type": "code",
   "execution_count": 53,
   "id": "dc6c9bff",
   "metadata": {},
   "outputs": [
    {
     "name": "stdout",
     "output_type": "stream",
     "text": [
      "(28744, 48, 48)\n"
     ]
    }
   ],
   "source": [
    "print(X_test.shape)"
   ]
  },
  {
   "cell_type": "code",
   "execution_count": 62,
   "id": "5fbe6ba4",
   "metadata": {},
   "outputs": [],
   "source": [
    "X_test = X_test[..., newaxis]"
   ]
  },
  {
   "cell_type": "code",
   "execution_count": 63,
   "id": "b6e28000",
   "metadata": {},
   "outputs": [
    {
     "name": "stdout",
     "output_type": "stream",
     "text": [
      "(28744, 48, 48, 1)\n"
     ]
    }
   ],
   "source": [
    "print(X_test.shape)"
   ]
  },
  {
   "cell_type": "code",
   "execution_count": 54,
   "id": "ae84d5ad",
   "metadata": {},
   "outputs": [
    {
     "name": "stdout",
     "output_type": "stream",
     "text": [
      "[0 0 0 ... 6 6 6]\n"
     ]
    }
   ],
   "source": [
    "test_df['emotion'].replace(['angry', 'disgust', 'fear', 'happy', 'neutral', 'sad', 'surprise'], [0, 1, 2, 3, 4, 5, 6], inplace=True)\n",
    "y = test_df['emotion']\n",
    "y_test = np.array(y)"
   ]
  },
  {
   "cell_type": "code",
   "execution_count": 55,
   "id": "d5efa61d",
   "metadata": {},
   "outputs": [
    {
     "name": "stdout",
     "output_type": "stream",
     "text": [
      "28744\n"
     ]
    }
   ],
   "source": [
    "print(len(y_test))"
   ]
  },
  {
   "cell_type": "code",
   "execution_count": 73,
   "id": "1778401e",
   "metadata": {},
   "outputs": [],
   "source": [
    "#normalize the data\n",
    "#import tensorflow as tf\n",
    "#X_train = tf.keras.utils.normalize(X_train)\n",
    "#X_test = tf.keras.utils.normalize(X_test)\n",
    "#NEver mind. Didn't work :("
   ]
  },
  {
   "cell_type": "code",
   "execution_count": 67,
   "id": "79c36b74",
   "metadata": {},
   "outputs": [],
   "source": [
    "from keras.preprocessing.image import load_img, img_to_array\n",
    "from keras.preprocessing.image import ImageDataGenerator\n",
    "from keras.layers import Dense,Input,Dropout,GlobalAveragePooling2D,Flatten,Conv2D,BatchNormalization,Activation,MaxPooling2D\n",
    "from keras.models import Model,Sequential\n",
    "from tensorflow.keras.optimizers import Adam,SGD,RMSprop"
   ]
  },
  {
   "cell_type": "code",
   "execution_count": null,
   "id": "9f14a875",
   "metadata": {},
   "outputs": [],
   "source": [
    "from keras.wrappers.scikit_learn import KerasClassifier\n",
    "def create_model():\n",
    "    model = Sequential([\n",
    "        Conv2D(filters=64, kernel_size=(3, 3), activation='relu', padding='same', input_shape=(48, 48, 1)),\n",
    "        MaxPooling2D(pool_size=(2, 2), strides=2),\n",
    "        Dropout(0.25),\n",
    "        Conv2D(filters=128, kernel_size=(3, 3), activation='relu', padding='same'),\n",
    "        MaxPooling2D(pool_size=(2, 2), strides=2),\n",
    "        Dropout(0.25),\n",
    "        Conv2D(filters=512, kernel_size=(3, 3), activation='relu', padding='same'),\n",
    "        MaxPooling2D(pool_size=(2, 2), strides=2),\n",
    "        Dropout(0.25),\n",
    "        Flatten(),\n",
    "        Dense(256, activation='relu'),\n",
    "        Dropout(0.25),\n",
    "        Dense(256, activation='relu'),\n",
    "        Dropout(0.25),\n",
    "        Dense(units=7, activation='softmax'),\n",
    "    ])\n",
    "    model.compile(optimizer=Adam(learning_rate=0.0005), loss='categorical_crossentropy', metrics=['accuracy'])\n",
    "    return model\n",
    "\n",
    "model = KerasClassifier(build_fn=create_model, verbose=0)"
   ]
  },
  {
   "cell_type": "code",
   "execution_count": 81,
   "id": "809783cc",
   "metadata": {},
   "outputs": [],
   "source": [
    "model = Sequential([\n",
    "    Conv2D(filters=64, kernel_size=(3, 3), activation='relu', padding='same', input_shape=(48, 48, 1)),\n",
    "    MaxPooling2D(pool_size=(2, 2), strides=2),\n",
    "    Dropout(0.25),\n",
    "    Conv2D(filters=128, kernel_size=(3, 3), activation='relu', padding='same'),\n",
    "    MaxPooling2D(pool_size=(2, 2), strides=2),\n",
    "    Dropout(0.25),\n",
    "    Conv2D(filters=512, kernel_size=(3, 3), activation='relu', padding='same'),\n",
    "    MaxPooling2D(pool_size=(2, 2), strides=2),\n",
    "    Dropout(0.25),\n",
    "    Flatten(),\n",
    "    Dense(256, activation='relu'),\n",
    "    Dropout(0.25),\n",
    "    Dense(256, activation='relu'),\n",
    "    Dropout(0.25),\n",
    "    Dense(units=7, activation='softmax'),\n",
    "])\n",
    "model.compile(optimizer=Adam(learning_rate=0.0001), loss='sparse_categorical_crossentropy', metrics=['accuracy'])"
   ]
  },
  {
   "cell_type": "code",
   "execution_count": 82,
   "id": "497bfacf",
   "metadata": {
    "scrolled": true
   },
   "outputs": [
    {
     "name": "stdout",
     "output_type": "stream",
     "text": [
      "Epoch 1/10\n",
      "898/898 [==============================] - 302s 335ms/step - loss: 2.1970 - accuracy: 0.2435\n",
      "Epoch 2/10\n",
      "898/898 [==============================] - 296s 330ms/step - loss: 1.8527 - accuracy: 0.2506\n",
      "Epoch 3/10\n",
      "898/898 [==============================] - 286s 318ms/step - loss: 1.8237 - accuracy: 0.2511\n",
      "Epoch 4/10\n",
      "898/898 [==============================] - 291s 324ms/step - loss: 1.8159 - accuracy: 0.2512\n",
      "Epoch 5/10\n",
      "898/898 [==============================] - 306s 341ms/step - loss: 1.8147 - accuracy: 0.2512\n",
      "Epoch 6/10\n",
      "898/898 [==============================] - 295s 328ms/step - loss: 1.8114 - accuracy: 0.2514\n",
      "Epoch 7/10\n",
      "860/898 [===========================>..] - ETA: 12s - loss: 1.8105 - accuracy: 0.2515"
     ]
    },
    {
     "ename": "KeyboardInterrupt",
     "evalue": "",
     "output_type": "error",
     "traceback": [
      "\u001b[1;31m---------------------------------------------------------------------------\u001b[0m",
      "\u001b[1;31mKeyboardInterrupt\u001b[0m                         Traceback (most recent call last)",
      "\u001b[1;32m<ipython-input-82-e5060ba904bd>\u001b[0m in \u001b[0;36m<module>\u001b[1;34m\u001b[0m\n\u001b[1;32m----> 1\u001b[1;33m \u001b[0mmodel\u001b[0m\u001b[1;33m.\u001b[0m\u001b[0mfit\u001b[0m\u001b[1;33m(\u001b[0m\u001b[0mX_train\u001b[0m\u001b[1;33m,\u001b[0m \u001b[0my_train\u001b[0m\u001b[1;33m,\u001b[0m \u001b[0mepochs\u001b[0m\u001b[1;33m=\u001b[0m\u001b[1;36m10\u001b[0m\u001b[1;33m,\u001b[0m \u001b[0mverbose\u001b[0m\u001b[1;33m=\u001b[0m\u001b[1;36m1\u001b[0m\u001b[1;33m)\u001b[0m\u001b[1;33m\u001b[0m\u001b[1;33m\u001b[0m\u001b[0m\n\u001b[0m",
      "\u001b[1;32m~\\anaconda3\\lib\\site-packages\\keras\\engine\\training.py\u001b[0m in \u001b[0;36mfit\u001b[1;34m(self, x, y, batch_size, epochs, verbose, callbacks, validation_split, validation_data, shuffle, class_weight, sample_weight, initial_epoch, steps_per_epoch, validation_steps, validation_batch_size, validation_freq, max_queue_size, workers, use_multiprocessing)\u001b[0m\n\u001b[0;32m   1182\u001b[0m                 _r=1):\n\u001b[0;32m   1183\u001b[0m               \u001b[0mcallbacks\u001b[0m\u001b[1;33m.\u001b[0m\u001b[0mon_train_batch_begin\u001b[0m\u001b[1;33m(\u001b[0m\u001b[0mstep\u001b[0m\u001b[1;33m)\u001b[0m\u001b[1;33m\u001b[0m\u001b[1;33m\u001b[0m\u001b[0m\n\u001b[1;32m-> 1184\u001b[1;33m               \u001b[0mtmp_logs\u001b[0m \u001b[1;33m=\u001b[0m \u001b[0mself\u001b[0m\u001b[1;33m.\u001b[0m\u001b[0mtrain_function\u001b[0m\u001b[1;33m(\u001b[0m\u001b[0miterator\u001b[0m\u001b[1;33m)\u001b[0m\u001b[1;33m\u001b[0m\u001b[1;33m\u001b[0m\u001b[0m\n\u001b[0m\u001b[0;32m   1185\u001b[0m               \u001b[1;32mif\u001b[0m \u001b[0mdata_handler\u001b[0m\u001b[1;33m.\u001b[0m\u001b[0mshould_sync\u001b[0m\u001b[1;33m:\u001b[0m\u001b[1;33m\u001b[0m\u001b[1;33m\u001b[0m\u001b[0m\n\u001b[0;32m   1186\u001b[0m                 \u001b[0mcontext\u001b[0m\u001b[1;33m.\u001b[0m\u001b[0masync_wait\u001b[0m\u001b[1;33m(\u001b[0m\u001b[1;33m)\u001b[0m\u001b[1;33m\u001b[0m\u001b[1;33m\u001b[0m\u001b[0m\n",
      "\u001b[1;32m~\\anaconda3\\lib\\site-packages\\tensorflow\\python\\eager\\def_function.py\u001b[0m in \u001b[0;36m__call__\u001b[1;34m(self, *args, **kwds)\u001b[0m\n\u001b[0;32m    883\u001b[0m \u001b[1;33m\u001b[0m\u001b[0m\n\u001b[0;32m    884\u001b[0m       \u001b[1;32mwith\u001b[0m \u001b[0mOptionalXlaContext\u001b[0m\u001b[1;33m(\u001b[0m\u001b[0mself\u001b[0m\u001b[1;33m.\u001b[0m\u001b[0m_jit_compile\u001b[0m\u001b[1;33m)\u001b[0m\u001b[1;33m:\u001b[0m\u001b[1;33m\u001b[0m\u001b[1;33m\u001b[0m\u001b[0m\n\u001b[1;32m--> 885\u001b[1;33m         \u001b[0mresult\u001b[0m \u001b[1;33m=\u001b[0m \u001b[0mself\u001b[0m\u001b[1;33m.\u001b[0m\u001b[0m_call\u001b[0m\u001b[1;33m(\u001b[0m\u001b[1;33m*\u001b[0m\u001b[0margs\u001b[0m\u001b[1;33m,\u001b[0m \u001b[1;33m**\u001b[0m\u001b[0mkwds\u001b[0m\u001b[1;33m)\u001b[0m\u001b[1;33m\u001b[0m\u001b[1;33m\u001b[0m\u001b[0m\n\u001b[0m\u001b[0;32m    886\u001b[0m \u001b[1;33m\u001b[0m\u001b[0m\n\u001b[0;32m    887\u001b[0m       \u001b[0mnew_tracing_count\u001b[0m \u001b[1;33m=\u001b[0m \u001b[0mself\u001b[0m\u001b[1;33m.\u001b[0m\u001b[0mexperimental_get_tracing_count\u001b[0m\u001b[1;33m(\u001b[0m\u001b[1;33m)\u001b[0m\u001b[1;33m\u001b[0m\u001b[1;33m\u001b[0m\u001b[0m\n",
      "\u001b[1;32m~\\anaconda3\\lib\\site-packages\\tensorflow\\python\\eager\\def_function.py\u001b[0m in \u001b[0;36m_call\u001b[1;34m(self, *args, **kwds)\u001b[0m\n\u001b[0;32m    915\u001b[0m       \u001b[1;31m# In this case we have created variables on the first call, so we run the\u001b[0m\u001b[1;33m\u001b[0m\u001b[1;33m\u001b[0m\u001b[1;33m\u001b[0m\u001b[0m\n\u001b[0;32m    916\u001b[0m       \u001b[1;31m# defunned version which is guaranteed to never create variables.\u001b[0m\u001b[1;33m\u001b[0m\u001b[1;33m\u001b[0m\u001b[1;33m\u001b[0m\u001b[0m\n\u001b[1;32m--> 917\u001b[1;33m       \u001b[1;32mreturn\u001b[0m \u001b[0mself\u001b[0m\u001b[1;33m.\u001b[0m\u001b[0m_stateless_fn\u001b[0m\u001b[1;33m(\u001b[0m\u001b[1;33m*\u001b[0m\u001b[0margs\u001b[0m\u001b[1;33m,\u001b[0m \u001b[1;33m**\u001b[0m\u001b[0mkwds\u001b[0m\u001b[1;33m)\u001b[0m  \u001b[1;31m# pylint: disable=not-callable\u001b[0m\u001b[1;33m\u001b[0m\u001b[1;33m\u001b[0m\u001b[0m\n\u001b[0m\u001b[0;32m    918\u001b[0m     \u001b[1;32melif\u001b[0m \u001b[0mself\u001b[0m\u001b[1;33m.\u001b[0m\u001b[0m_stateful_fn\u001b[0m \u001b[1;32mis\u001b[0m \u001b[1;32mnot\u001b[0m \u001b[1;32mNone\u001b[0m\u001b[1;33m:\u001b[0m\u001b[1;33m\u001b[0m\u001b[1;33m\u001b[0m\u001b[0m\n\u001b[0;32m    919\u001b[0m       \u001b[1;31m# Release the lock early so that multiple threads can perform the call\u001b[0m\u001b[1;33m\u001b[0m\u001b[1;33m\u001b[0m\u001b[1;33m\u001b[0m\u001b[0m\n",
      "\u001b[1;32m~\\anaconda3\\lib\\site-packages\\tensorflow\\python\\eager\\function.py\u001b[0m in \u001b[0;36m__call__\u001b[1;34m(self, *args, **kwargs)\u001b[0m\n\u001b[0;32m   3037\u001b[0m       (graph_function,\n\u001b[0;32m   3038\u001b[0m        filtered_flat_args) = self._maybe_define_function(args, kwargs)\n\u001b[1;32m-> 3039\u001b[1;33m     return graph_function._call_flat(\n\u001b[0m\u001b[0;32m   3040\u001b[0m         filtered_flat_args, captured_inputs=graph_function.captured_inputs)  # pylint: disable=protected-access\n\u001b[0;32m   3041\u001b[0m \u001b[1;33m\u001b[0m\u001b[0m\n",
      "\u001b[1;32m~\\anaconda3\\lib\\site-packages\\tensorflow\\python\\eager\\function.py\u001b[0m in \u001b[0;36m_call_flat\u001b[1;34m(self, args, captured_inputs, cancellation_manager)\u001b[0m\n\u001b[0;32m   1961\u001b[0m         and executing_eagerly):\n\u001b[0;32m   1962\u001b[0m       \u001b[1;31m# No tape is watching; skip to running the function.\u001b[0m\u001b[1;33m\u001b[0m\u001b[1;33m\u001b[0m\u001b[1;33m\u001b[0m\u001b[0m\n\u001b[1;32m-> 1963\u001b[1;33m       return self._build_call_outputs(self._inference_function.call(\n\u001b[0m\u001b[0;32m   1964\u001b[0m           ctx, args, cancellation_manager=cancellation_manager))\n\u001b[0;32m   1965\u001b[0m     forward_backward = self._select_forward_and_backward_functions(\n",
      "\u001b[1;32m~\\anaconda3\\lib\\site-packages\\tensorflow\\python\\eager\\function.py\u001b[0m in \u001b[0;36mcall\u001b[1;34m(self, ctx, args, cancellation_manager)\u001b[0m\n\u001b[0;32m    589\u001b[0m       \u001b[1;32mwith\u001b[0m \u001b[0m_InterpolateFunctionError\u001b[0m\u001b[1;33m(\u001b[0m\u001b[0mself\u001b[0m\u001b[1;33m)\u001b[0m\u001b[1;33m:\u001b[0m\u001b[1;33m\u001b[0m\u001b[1;33m\u001b[0m\u001b[0m\n\u001b[0;32m    590\u001b[0m         \u001b[1;32mif\u001b[0m \u001b[0mcancellation_manager\u001b[0m \u001b[1;32mis\u001b[0m \u001b[1;32mNone\u001b[0m\u001b[1;33m:\u001b[0m\u001b[1;33m\u001b[0m\u001b[1;33m\u001b[0m\u001b[0m\n\u001b[1;32m--> 591\u001b[1;33m           outputs = execute.execute(\n\u001b[0m\u001b[0;32m    592\u001b[0m               \u001b[0mstr\u001b[0m\u001b[1;33m(\u001b[0m\u001b[0mself\u001b[0m\u001b[1;33m.\u001b[0m\u001b[0msignature\u001b[0m\u001b[1;33m.\u001b[0m\u001b[0mname\u001b[0m\u001b[1;33m)\u001b[0m\u001b[1;33m,\u001b[0m\u001b[1;33m\u001b[0m\u001b[1;33m\u001b[0m\u001b[0m\n\u001b[0;32m    593\u001b[0m               \u001b[0mnum_outputs\u001b[0m\u001b[1;33m=\u001b[0m\u001b[0mself\u001b[0m\u001b[1;33m.\u001b[0m\u001b[0m_num_outputs\u001b[0m\u001b[1;33m,\u001b[0m\u001b[1;33m\u001b[0m\u001b[1;33m\u001b[0m\u001b[0m\n",
      "\u001b[1;32m~\\anaconda3\\lib\\site-packages\\tensorflow\\python\\eager\\execute.py\u001b[0m in \u001b[0;36mquick_execute\u001b[1;34m(op_name, num_outputs, inputs, attrs, ctx, name)\u001b[0m\n\u001b[0;32m     57\u001b[0m   \u001b[1;32mtry\u001b[0m\u001b[1;33m:\u001b[0m\u001b[1;33m\u001b[0m\u001b[1;33m\u001b[0m\u001b[0m\n\u001b[0;32m     58\u001b[0m     \u001b[0mctx\u001b[0m\u001b[1;33m.\u001b[0m\u001b[0mensure_initialized\u001b[0m\u001b[1;33m(\u001b[0m\u001b[1;33m)\u001b[0m\u001b[1;33m\u001b[0m\u001b[1;33m\u001b[0m\u001b[0m\n\u001b[1;32m---> 59\u001b[1;33m     tensors = pywrap_tfe.TFE_Py_Execute(ctx._handle, device_name, op_name,\n\u001b[0m\u001b[0;32m     60\u001b[0m                                         inputs, attrs, num_outputs)\n\u001b[0;32m     61\u001b[0m   \u001b[1;32mexcept\u001b[0m \u001b[0mcore\u001b[0m\u001b[1;33m.\u001b[0m\u001b[0m_NotOkStatusException\u001b[0m \u001b[1;32mas\u001b[0m \u001b[0me\u001b[0m\u001b[1;33m:\u001b[0m\u001b[1;33m\u001b[0m\u001b[1;33m\u001b[0m\u001b[0m\n",
      "\u001b[1;31mKeyboardInterrupt\u001b[0m: "
     ]
    }
   ],
   "source": [
    "model.fit(X_train, y_train, epochs=10, verbose=1)"
   ]
  },
  {
   "cell_type": "code",
   "execution_count": null,
   "id": "fc9cf112",
   "metadata": {},
   "outputs": [],
   "source": [
    "val_loss, val_acc = model.evaluate(X_test, y_test)\n",
    "print(val_loss, val_acc)"
   ]
  },
  {
   "cell_type": "code",
   "execution_count": 83,
   "id": "0305b8f5",
   "metadata": {},
   "outputs": [],
   "source": [
    "model2 = Sequential([\n",
    "    Conv2D(filters=64, kernel_size=(3, 3), activation='relu', padding='same', input_shape=(48, 48, 1)),\n",
    "    MaxPooling2D(pool_size=(2, 2), strides=2),\n",
    "    Dropout(0.25),\n",
    "    Conv2D(filters=128, kernel_size=(3, 3), activation='relu', padding='same'),\n",
    "    MaxPooling2D(pool_size=(2, 2), strides=2),\n",
    "    Dropout(0.25),\n",
    "    Conv2D(filters=512, kernel_size=(3, 3), activation='relu', padding='same'),\n",
    "    MaxPooling2D(pool_size=(2, 2), strides=2),\n",
    "    Dropout(0.25),\n",
    "    Flatten(),\n",
    "    Dense(256, activation='relu'),\n",
    "    Dropout(0.25),\n",
    "    Dense(256, activation='relu'),\n",
    "    Dropout(0.25),\n",
    "    Dense(units=7, activation='softmax'),\n",
    "])\n",
    "model2.compile(optimizer=Adam(learning_rate=0.001), loss='sparse_categorical_crossentropy', metrics=['accuracy'])"
   ]
  },
  {
   "cell_type": "code",
   "execution_count": 84,
   "id": "ed779900",
   "metadata": {},
   "outputs": [
    {
     "name": "stdout",
     "output_type": "stream",
     "text": [
      "Epoch 1/20\n",
      "898/898 [==============================] - 304s 338ms/step - loss: 2.2131 - accuracy: 0.2399\n",
      "Epoch 2/20\n",
      "898/898 [==============================] - 314s 350ms/step - loss: 1.7967 - accuracy: 0.2578\n",
      "Epoch 3/20\n",
      "898/898 [==============================] - 376s 419ms/step - loss: 1.7414 - accuracy: 0.2846\n",
      "Epoch 4/20\n",
      "898/898 [==============================] - 512s 570ms/step - loss: 1.6650 - accuracy: 0.3358\n",
      "Epoch 5/20\n",
      "898/898 [==============================] - 512s 570ms/step - loss: 1.6004 - accuracy: 0.3730\n",
      "Epoch 6/20\n",
      "898/898 [==============================] - 512s 570ms/step - loss: 1.5431 - accuracy: 0.4021\n",
      "Epoch 7/20\n",
      "898/898 [==============================] - 515s 573ms/step - loss: 1.4949 - accuracy: 0.4274\n",
      "Epoch 8/20\n",
      "898/898 [==============================] - 516s 575ms/step - loss: 1.4668 - accuracy: 0.4353\n",
      "Epoch 9/20\n",
      "898/898 [==============================] - 514s 572ms/step - loss: 1.4319 - accuracy: 0.4504\n",
      "Epoch 10/20\n",
      "898/898 [==============================] - 525s 585ms/step - loss: 1.4040 - accuracy: 0.4619\n",
      "Epoch 11/20\n",
      "898/898 [==============================] - 518s 577ms/step - loss: 1.3803 - accuracy: 0.4718\n",
      "Epoch 12/20\n",
      "898/898 [==============================] - 517s 576ms/step - loss: 1.3662 - accuracy: 0.4763\n",
      "Epoch 13/20\n",
      "898/898 [==============================] - 517s 576ms/step - loss: 1.3480 - accuracy: 0.4882\n",
      "Epoch 14/20\n",
      "898/898 [==============================] - 520s 578ms/step - loss: 1.3355 - accuracy: 0.4910\n",
      "Epoch 15/20\n",
      "898/898 [==============================] - 518s 577ms/step - loss: 1.3155 - accuracy: 0.5011\n",
      "Epoch 16/20\n",
      "898/898 [==============================] - 526s 585ms/step - loss: 1.3045 - accuracy: 0.5067\n",
      "Epoch 17/20\n",
      "898/898 [==============================] - 519s 577ms/step - loss: 1.3022 - accuracy: 0.5095\n",
      "Epoch 18/20\n",
      "898/898 [==============================] - 519s 578ms/step - loss: 1.2686 - accuracy: 0.5198\n",
      "Epoch 19/20\n",
      "898/898 [==============================] - 505s 563ms/step - loss: 1.2583 - accuracy: 0.5261\n",
      "Epoch 20/20\n",
      "898/898 [==============================] - 511s 569ms/step - loss: 1.2505 - accuracy: 0.5290\n"
     ]
    },
    {
     "data": {
      "text/plain": [
       "<keras.callbacks.History at 0x27cc7262850>"
      ]
     },
     "execution_count": 84,
     "metadata": {},
     "output_type": "execute_result"
    }
   ],
   "source": [
    "model2.fit(X_train, y_train, epochs=20, verbose=1)"
   ]
  },
  {
   "cell_type": "code",
   "execution_count": 85,
   "id": "3927077e",
   "metadata": {},
   "outputs": [
    {
     "name": "stdout",
     "output_type": "stream",
     "text": [
      "899/899 [==============================] - 111s 120ms/step - loss: 1.9646 - accuracy: 0.1737\n",
      "1.964582920074463 0.17367102205753326\n"
     ]
    }
   ],
   "source": [
    "val_loss, val_acc = model2.evaluate(X_test, y_test)\n",
    "print(val_loss, val_acc)"
   ]
  },
  {
   "cell_type": "code",
   "execution_count": null,
   "id": "7de2450e",
   "metadata": {},
   "outputs": [],
   "source": [
    "model3 = Sequential([\n",
    "    Conv2D(filters=64, kernel_size=(3, 3), activation='relu', padding='same', input_shape=(48, 48, 1)),\n",
    "    MaxPooling2D(pool_size=(2, 2), strides=2),\n",
    "    Dropout(0.25),\n",
    "    Conv2D(filters=128, kernel_size=(3, 3), activation='relu', padding='same'),\n",
    "    MaxPooling2D(pool_size=(2, 2), strides=2),\n",
    "    Dropout(0.25),\n",
    "    Conv2D(filters=512, kernel_size=(3, 3), activation='relu', padding='same'),\n",
    "    MaxPooling2D(pool_size=(2, 2), strides=2),\n",
    "    Dropout(0.25),\n",
    "    Flatten(),\n",
    "    Dense(256, activation='relu'),\n",
    "    Dropout(0.25),\n",
    "    Dense(256, activation='relu'),\n",
    "    Dropout(0.25),\n",
    "    Dense(units=7, activation='softmax'),\n",
    "])\n",
    "model3.compile(optimizer=Adam(learning_rate=0.01), loss='sparse_categorical_crossentropy', metrics=['accuracy'])"
   ]
  },
  {
   "cell_type": "code",
   "execution_count": null,
   "id": "138406e9",
   "metadata": {},
   "outputs": [],
   "source": [
    "model3.fit(X_train, y_train, epochs=20, verbose=1)"
   ]
  },
  {
   "cell_type": "code",
   "execution_count": null,
   "id": "67b5e832",
   "metadata": {},
   "outputs": [],
   "source": [
    "val_loss, val_acc = model3.evaluate(X_test, y_test)\n",
    "print(val_loss, val_acc)"
   ]
  },
  {
   "cell_type": "code",
   "execution_count": null,
   "id": "163c69c9",
   "metadata": {},
   "outputs": [],
   "source": [
    "from sklearn.model_selection import GridSearchCV\n",
    "epochs = [10, 20, 50, 100]\n",
    "params = dict(epochs=epochs)\n",
    "grid = GridSearchCV(estimator=model, param_grid=params, n_jobs=-1, cv=3)\n",
    "grid_result = grid.fit(X_train, y_train)"
   ]
  },
  {
   "cell_type": "code",
   "execution_count": null,
   "id": "b3a8a81d",
   "metadata": {},
   "outputs": [],
   "source": [
    "print(\"Best: %f using %s\" % (grid_result.best_score_, grid_result.best_params_))"
   ]
  },
  {
   "cell_type": "code",
   "execution_count": null,
   "id": "85a2cc4b",
   "metadata": {},
   "outputs": [],
   "source": []
  }
 ],
 "metadata": {
  "kernelspec": {
   "display_name": "Python 3",
   "language": "python",
   "name": "python3"
  },
  "language_info": {
   "codemirror_mode": {
    "name": "ipython",
    "version": 3
   },
   "file_extension": ".py",
   "mimetype": "text/x-python",
   "name": "python",
   "nbconvert_exporter": "python",
   "pygments_lexer": "ipython3",
   "version": "3.8.8"
  }
 },
 "nbformat": 4,
 "nbformat_minor": 5
}
