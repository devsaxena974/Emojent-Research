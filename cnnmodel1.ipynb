{
 "cells": [
  {
   "cell_type": "code",
   "execution_count": 2,
   "id": "414ca015",
   "metadata": {},
   "outputs": [],
   "source": [
    "import matplotlib.pyplot as plt\n",
    "import numpy as np\n",
    "import pandas as pd\n",
    "import seaborn as sns\n",
    "import os\n",
    "\n",
    "# Importing Deep Learning Libraries\n",
    "\n",
    "from keras.preprocessing.image import load_img, img_to_array\n",
    "from keras.preprocessing.image import ImageDataGenerator\n",
    "from keras.layers import Dense,Input,Dropout,GlobalAveragePooling2D,Flatten,Conv2D,BatchNormalization,Activation,MaxPooling2D\n",
    "from keras.models import Model,Sequential\n",
    "from tensorflow.keras.optimizers import Adam,SGD,RMSprop"
   ]
  },
  {
   "cell_type": "code",
   "execution_count": 3,
   "id": "820a8222",
   "metadata": {},
   "outputs": [
    {
     "name": "stdout",
     "output_type": "stream",
     "text": [
      "Found 28821 images belonging to 7 classes.\n"
     ]
    }
   ],
   "source": [
    "train_data = ImageDataGenerator()\n",
    "test_data = ImageDataGenerator()\n",
    "\n",
    "train = train_data.flow_from_directory(\"../Tutorials/emotion_dataset2/images/train\",\n",
    "                                      target_size=(48, 48),\n",
    "                                      color_mode=\"grayscale\",\n",
    "                                      class_mode='categorical',\n",
    "                                      shuffle=True)"
   ]
  },
  {
   "cell_type": "code",
   "execution_count": 4,
   "id": "b58398d7",
   "metadata": {},
   "outputs": [
    {
     "name": "stdout",
     "output_type": "stream",
     "text": [
      "Found 7066 images belonging to 7 classes.\n"
     ]
    }
   ],
   "source": [
    "test = test_data.flow_from_directory(\"../Tutorials/emotion_dataset2/images/validation\",\n",
    "                                    target_size=(48, 48),\n",
    "                                    color_mode=\"grayscale\",\n",
    "                                    class_mode='categorical',\n",
    "                                    shuffle=True)"
   ]
  },
  {
   "cell_type": "code",
   "execution_count": 6,
   "id": "3088813d",
   "metadata": {},
   "outputs": [],
   "source": [
    "from keras.callbacks import ModelCheckpoint, EarlyStopping, ReduceLROnPlateau"
   ]
  },
  {
   "cell_type": "code",
   "execution_count": 18,
   "id": "b2a9012e",
   "metadata": {},
   "outputs": [],
   "source": [
    "model6 = Sequential([\n",
    "    Conv2D(filters=64, kernel_size=(3, 3), activation='relu', padding='same', input_shape=(48, 48, 1)),\n",
    "    MaxPooling2D(pool_size=(2, 2), strides=2),\n",
    "    Dropout(0.25),\n",
    "    Conv2D(filters=128, kernel_size=(3, 3), activation='relu', padding='same'),\n",
    "    MaxPooling2D(pool_size=(2, 2), strides=2),\n",
    "    Dropout(0.25),\n",
    "    Conv2D(filters=512, kernel_size=(3, 3), activation='relu', padding='same'),\n",
    "    MaxPooling2D(pool_size=(2, 2), strides=2),\n",
    "    Dropout(0.25),\n",
    "    Flatten(),\n",
    "    Dense(256, activation='relu'),\n",
    "    Dropout(0.25),\n",
    "    Dense(256, activation='relu'),\n",
    "    Dropout(0.25),\n",
    "    Dense(units=7, activation='softmax'),\n",
    "])"
   ]
  },
  {
   "cell_type": "code",
   "execution_count": 19,
   "id": "e37bf660",
   "metadata": {},
   "outputs": [],
   "source": [
    "model6.compile(optimizer=Adam(learning_rate=0.0005), loss='categorical_crossentropy', metrics=['accuracy'])"
   ]
  },
  {
   "cell_type": "code",
   "execution_count": null,
   "id": "bca9f01a",
   "metadata": {},
   "outputs": [
    {
     "name": "stdout",
     "output_type": "stream",
     "text": [
      "Epoch 1/30\n",
      "901/901 [==============================] - 339s 375ms/step - loss: 2.2392 - accuracy: 0.2299 - val_loss: 1.8141 - val_accuracy: 0.2583\n",
      "Epoch 2/30\n",
      "901/901 [==============================] - 330s 366ms/step - loss: 1.7799 - accuracy: 0.2673 - val_loss: 1.7176 - val_accuracy: 0.3190\n",
      "Epoch 3/30\n",
      "901/901 [==============================] - 921s 1s/step - loss: 1.6744 - accuracy: 0.3337 - val_loss: 1.5771 - val_accuracy: 0.4019\n",
      "Epoch 4/30\n",
      "901/901 [==============================] - 384s 427ms/step - loss: 1.5713 - accuracy: 0.3870 - val_loss: 1.4527 - val_accuracy: 0.4524\n",
      "Epoch 5/30\n",
      "901/901 [==============================] - 410s 454ms/step - loss: 1.4855 - accuracy: 0.4253 - val_loss: 1.3728 - val_accuracy: 0.4870\n",
      "Epoch 6/30\n",
      "901/901 [==============================] - 384s 426ms/step - loss: 1.4218 - accuracy: 0.4513 - val_loss: 1.3265 - val_accuracy: 0.4948\n",
      "Epoch 7/30\n",
      "193/901 [=====>........................] - ETA: 4:49 - loss: 1.3679 - accuracy: 0.4772"
     ]
    }
   ],
   "source": [
    "model6.fit(x=train, validation_data=test, epochs=30, verbose=1)"
   ]
  },
  {
   "cell_type": "code",
   "execution_count": null,
   "id": "863859f2",
   "metadata": {},
   "outputs": [],
   "source": [
    "model6.save(\"cnn_model1\")"
   ]
  }
 ],
 "metadata": {
  "kernelspec": {
   "display_name": "Python 3",
   "language": "python",
   "name": "python3"
  }
 },
 "nbformat": 4,
 "nbformat_minor": 5
}
