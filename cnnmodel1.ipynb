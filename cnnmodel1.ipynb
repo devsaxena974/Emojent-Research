{
 "cells": [
  {
   "cell_type": "code",
   "execution_count": 2,
   "id": "414ca015",
   "metadata": {},
   "outputs": [],
   "source": [
    "import matplotlib.pyplot as plt\n",
    "import numpy as np\n",
    "import pandas as pd\n",
    "import seaborn as sns\n",
    "import os\n",
    "\n",
    "# Importing Deep Learning Libraries\n",
    "\n",
    "from keras.preprocessing.image import load_img, img_to_array\n",
    "from keras.preprocessing.image import ImageDataGenerator\n",
    "from keras.layers import Dense,Input,Dropout,GlobalAveragePooling2D,Flatten,Conv2D,BatchNormalization,Activation,MaxPooling2D\n",
    "from keras.models import Model,Sequential\n",
    "from tensorflow.keras.optimizers import Adam,SGD,RMSprop"
   ]
  },
  {
   "cell_type": "code",
   "execution_count": 3,
   "id": "820a8222",
   "metadata": {},
   "outputs": [
    {
     "name": "stdout",
     "output_type": "stream",
     "text": [
      "Found 28821 images belonging to 7 classes.\n"
     ]
    }
   ],
   "source": [
    "train_data = ImageDataGenerator()\n",
    "test_data = ImageDataGenerator()\n",
    "\n",
    "train = train_data.flow_from_directory(\"../Tutorials/emotion_dataset2/images/train\",\n",
    "                                      target_size=(48, 48),\n",
    "                                      color_mode=\"grayscale\",\n",
    "                                      class_mode='categorical',\n",
    "                                      shuffle=True)"
   ]
  },
  {
   "cell_type": "code",
   "execution_count": 4,
   "id": "b58398d7",
   "metadata": {},
   "outputs": [
    {
     "name": "stdout",
     "output_type": "stream",
     "text": [
      "Found 7066 images belonging to 7 classes.\n"
     ]
    }
   ],
   "source": [
    "test = test_data.flow_from_directory(\"../Tutorials/emotion_dataset2/images/validation\",\n",
    "                                    target_size=(48, 48),\n",
    "                                    color_mode=\"grayscale\",\n",
    "                                    class_mode='categorical',\n",
    "                                    shuffle=True)"
   ]
  },
  {
   "cell_type": "code",
   "execution_count": 6,
   "id": "3088813d",
   "metadata": {},
   "outputs": [],
   "source": [
    "from keras.callbacks import ModelCheckpoint, EarlyStopping, ReduceLROnPlateau"
   ]
  },
  {
   "cell_type": "code",
   "execution_count": 18,
   "id": "b2a9012e",
   "metadata": {},
   "outputs": [],
   "source": [
    "model6 = Sequential([\n",
    "    Conv2D(filters=64, kernel_size=(3, 3), activation='relu', padding='same', input_shape=(48, 48, 1)),\n",
    "    MaxPooling2D(pool_size=(2, 2), strides=2),\n",
    "    Dropout(0.25),\n",
    "    Conv2D(filters=128, kernel_size=(3, 3), activation='relu', padding='same'),\n",
    "    MaxPooling2D(pool_size=(2, 2), strides=2),\n",
    "    Dropout(0.25),\n",
    "    Conv2D(filters=512, kernel_size=(3, 3), activation='relu', padding='same'),\n",
    "    MaxPooling2D(pool_size=(2, 2), strides=2),\n",
    "    Dropout(0.25),\n",
    "    Flatten(),\n",
    "    Dense(256, activation='relu'),\n",
    "    Dropout(0.25),\n",
    "    Dense(256, activation='relu'),\n",
    "    Dropout(0.25),\n",
    "    Dense(units=7, activation='softmax'),\n",
    "])"
   ]
  },
  {
   "cell_type": "code",
   "execution_count": 19,
   "id": "e37bf660",
   "metadata": {},
   "outputs": [],
   "source": [
    "model6.compile(optimizer=Adam(learning_rate=0.0005), loss='categorical_crossentropy', metrics=['accuracy'])"
   ]
  },
  {
   "cell_type": "code",
   "execution_count": 20,
   "id": "bca9f01a",
   "metadata": {},
   "outputs": [
    {
     "name": "stdout",
     "output_type": "stream",
     "text": [
      "Epoch 1/30\n",
      "901/901 [==============================] - 339s 375ms/step - loss: 2.2392 - accuracy: 0.2299 - val_loss: 1.8141 - val_accuracy: 0.2583\n",
      "Epoch 2/30\n",
      "901/901 [==============================] - 330s 366ms/step - loss: 1.7799 - accuracy: 0.2673 - val_loss: 1.7176 - val_accuracy: 0.3190\n",
      "Epoch 3/30\n",
      "901/901 [==============================] - 921s 1s/step - loss: 1.6744 - accuracy: 0.3337 - val_loss: 1.5771 - val_accuracy: 0.4019\n",
      "Epoch 4/30\n",
      "901/901 [==============================] - 384s 427ms/step - loss: 1.5713 - accuracy: 0.3870 - val_loss: 1.4527 - val_accuracy: 0.4524\n",
      "Epoch 5/30\n",
      "901/901 [==============================] - 410s 454ms/step - loss: 1.4855 - accuracy: 0.4253 - val_loss: 1.3728 - val_accuracy: 0.4870\n",
      "Epoch 6/30\n",
      "901/901 [==============================] - 384s 426ms/step - loss: 1.4218 - accuracy: 0.4513 - val_loss: 1.3265 - val_accuracy: 0.4948\n",
      "Epoch 7/30\n",
      "901/901 [==============================] - 383s 425ms/step - loss: 1.3671 - accuracy: 0.4768 - val_loss: 1.2918 - val_accuracy: 0.5177\n",
      "Epoch 8/30\n",
      "901/901 [==============================] - 376s 417ms/step - loss: 1.3219 - accuracy: 0.4926 - val_loss: 1.2538 - val_accuracy: 0.5293\n",
      "Epoch 9/30\n",
      "901/901 [==============================] - 397s 440ms/step - loss: 1.2859 - accuracy: 0.5093 - val_loss: 1.2164 - val_accuracy: 0.5450\n",
      "Epoch 10/30\n",
      "901/901 [==============================] - 390s 432ms/step - loss: 1.2478 - accuracy: 0.5243 - val_loss: 1.2188 - val_accuracy: 0.5457\n",
      "Epoch 11/30\n",
      "901/901 [==============================] - 370s 411ms/step - loss: 1.2177 - accuracy: 0.5379 - val_loss: 1.1967 - val_accuracy: 0.5532\n",
      "Epoch 12/30\n",
      "901/901 [==============================] - 370s 411ms/step - loss: 1.1802 - accuracy: 0.5563 - val_loss: 1.1703 - val_accuracy: 0.5590\n",
      "Epoch 13/30\n",
      "901/901 [==============================] - 320s 355ms/step - loss: 1.1588 - accuracy: 0.5633 - val_loss: 1.1625 - val_accuracy: 0.5693\n",
      "Epoch 14/30\n",
      "901/901 [==============================] - 287s 319ms/step - loss: 1.1200 - accuracy: 0.5806 - val_loss: 1.1718 - val_accuracy: 0.5637\n",
      "Epoch 15/30\n",
      "901/901 [==============================] - 303s 337ms/step - loss: 1.0846 - accuracy: 0.5920 - val_loss: 1.1580 - val_accuracy: 0.5720\n",
      "Epoch 16/30\n",
      "901/901 [==============================] - 298s 331ms/step - loss: 1.0507 - accuracy: 0.6062 - val_loss: 1.1688 - val_accuracy: 0.5702\n",
      "Epoch 17/30\n",
      "901/901 [==============================] - 311s 345ms/step - loss: 1.0199 - accuracy: 0.6209 - val_loss: 1.1633 - val_accuracy: 0.5768\n",
      "Epoch 18/30\n",
      "901/901 [==============================] - 289s 320ms/step - loss: 0.9916 - accuracy: 0.6295 - val_loss: 1.1548 - val_accuracy: 0.5825\n",
      "Epoch 19/30\n",
      "901/901 [==============================] - 6936s 8s/step - loss: 0.9623 - accuracy: 0.6411 - val_loss: 1.1494 - val_accuracy: 0.5846\n",
      "Epoch 20/30\n",
      "901/901 [==============================] - 359s 398ms/step - loss: 0.9247 - accuracy: 0.6555 - val_loss: 1.1469 - val_accuracy: 0.5740\n",
      "Epoch 21/30\n",
      "901/901 [==============================] - 333s 370ms/step - loss: 0.8906 - accuracy: 0.6724 - val_loss: 1.1525 - val_accuracy: 0.5910\n",
      "Epoch 22/30\n",
      "901/901 [==============================] - 320s 355ms/step - loss: 0.8734 - accuracy: 0.6808 - val_loss: 1.1426 - val_accuracy: 0.5889\n",
      "Epoch 23/30\n",
      "901/901 [==============================] - 346s 384ms/step - loss: 0.8380 - accuracy: 0.6939 - val_loss: 1.1529 - val_accuracy: 0.5880\n",
      "Epoch 24/30\n",
      "901/901 [==============================] - 351s 389ms/step - loss: 0.8131 - accuracy: 0.7063 - val_loss: 1.1712 - val_accuracy: 0.5890\n",
      "Epoch 25/30\n",
      "901/901 [==============================] - 342s 379ms/step - loss: 0.7857 - accuracy: 0.7135 - val_loss: 1.1693 - val_accuracy: 0.5877\n",
      "Epoch 26/30\n",
      "901/901 [==============================] - 343s 380ms/step - loss: 0.7646 - accuracy: 0.7221 - val_loss: 1.1604 - val_accuracy: 0.5995\n",
      "Epoch 27/30\n",
      "901/901 [==============================] - 347s 385ms/step - loss: 0.7360 - accuracy: 0.7301 - val_loss: 1.2106 - val_accuracy: 0.5943\n",
      "Epoch 28/30\n",
      "901/901 [==============================] - 349s 387ms/step - loss: 0.7081 - accuracy: 0.7473 - val_loss: 1.1759 - val_accuracy: 0.6067\n",
      "Epoch 29/30\n",
      "901/901 [==============================] - 341s 378ms/step - loss: 0.6850 - accuracy: 0.7536 - val_loss: 1.2172 - val_accuracy: 0.5954\n",
      "Epoch 30/30\n",
      "901/901 [==============================] - 347s 385ms/step - loss: 0.6619 - accuracy: 0.7636 - val_loss: 1.2240 - val_accuracy: 0.5906\n"
     ]
    },
    {
     "data": {
      "text/plain": [
       "<keras.callbacks.History at 0x279be01ab50>"
      ]
     },
     "execution_count": 20,
     "metadata": {},
     "output_type": "execute_result"
    }
   ],
   "source": [
    "model6.fit(x=train, validation_data=test, epochs=30, verbose=1)"
   ]
  },
  {
   "cell_type": "code",
   "execution_count": 22,
   "id": "863859f2",
   "metadata": {
    "scrolled": true
   },
   "outputs": [
    {
     "name": "stdout",
     "output_type": "stream",
     "text": [
      "INFO:tensorflow:Assets written to: cnn_model1\\assets\n"
     ]
    }
   ],
   "source": [
    "model6.save(\"cnn_model1\")"
   ]
  },
  {
   "cell_type": "code",
   "execution_count": null,
   "id": "afa15454",
   "metadata": {},
   "outputs": [],
   "source": []
  }
 ],
 "metadata": {
  "kernelspec": {
   "display_name": "Python 3",
   "language": "python",
   "name": "python3"
  },
  "language_info": {
   "codemirror_mode": {
    "name": "ipython",
    "version": 3
   },
   "file_extension": ".py",
   "mimetype": "text/x-python",
   "name": "python",
   "nbconvert_exporter": "python",
   "pygments_lexer": "ipython3",
   "version": "3.8.8"
  }
 },
 "nbformat": 4,
 "nbformat_minor": 5
}
